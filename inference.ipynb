{
  "nbformat": 4,
  "nbformat_minor": 0,
  "metadata": {
    "colab": {
      "provenance": [],
      "gpuType": "T4",
      "include_colab_link": true
    },
    "kernelspec": {
      "name": "python3",
      "display_name": "Python 3"
    },
    "language_info": {
      "name": "python"
    },
    "accelerator": "GPU"
  },
  "cells": [
    {
      "cell_type": "markdown",
      "metadata": {
        "id": "view-in-github",
        "colab_type": "text"
      },
      "source": [
        "<a href=\"https://colab.research.google.com/github/AndrewZhang76/gnn_with_spmm/blob/main/inference.ipynb\" target=\"_parent\"><img src=\"https://colab.research.google.com/assets/colab-badge.svg\" alt=\"Open In Colab\"/></a>"
      ]
    },
    {
      "cell_type": "markdown",
      "source": [
        "# 10-414/714: Deep Learning Systems - Final Project\n",
        "\n",
        "\n",
        "## **Sparse Matrix Multiplication on Graph Neural Network**\n",
        "\n",
        "**By Andrew Zhang, Jinkai Qiu & Yimei Wu**\n",
        "\n",
        "\n",
        "---\n",
        "\n",
        "In this project, we are going to implement **sparse matrix** class supported in Needle, **forward and backward pass of sparse matrix multiplication**, and its **application on Graph Neural Network(GNN)**.\n",
        "\n",
        "In this notebook, we are going to show how to **define sparse matrix**, perform **sparse matrix multiplication** and compare it with normal dense matrix multiplication. In addition, we will also show how it can be used in **GNN training.**\n",
        "\n"
      ],
      "metadata": {
        "id": "87NGEASXY4Ht"
      }
    },
    {
      "cell_type": "markdown",
      "source": [
        "## 1. Clone Required Repo and Install Required Packages"
      ],
      "metadata": {
        "id": "vtBJoltybBDc"
      }
    },
    {
      "cell_type": "code",
      "execution_count": 1,
      "metadata": {
        "colab": {
          "base_uri": "https://localhost:8080/"
        },
        "id": "AW1iuoBMCYyp",
        "outputId": "08a02c94-5258-4ac5-dce5-8368745d2978"
      },
      "outputs": [
        {
          "output_type": "stream",
          "name": "stdout",
          "text": [
            "Drive already mounted at /content/drive; to attempt to forcibly remount, call drive.mount(\"/content/drive\", force_remount=True).\n",
            "/content/drive/MyDrive/10714\n",
            "/content/drive/MyDrive/10714/final_proj\n",
            "fatal: destination path 'gnn_with_spmm' already exists and is not an empty directory.\n",
            "/content/drive/MyDrive/10714/final_proj/gnn_with_spmm\n",
            "remote: Enumerating objects: 22, done.\u001b[K\n",
            "remote: Counting objects: 100% (22/22), done.\u001b[K\n",
            "remote: Compressing objects: 100% (5/5), done.\u001b[K\n",
            "remote: Total 13 (delta 7), reused 13 (delta 7), pack-reused 0 (from 0)\u001b[K\n",
            "Unpacking objects: 100% (13/13), 1.24 KiB | 5.00 KiB/s, done.\n",
            "From https://github.com/AndrewZhang76/gnn_with_spmm\n",
            "   d52ad19..c8eca70  main       -> origin/main\n",
            "Updating d52ad19..c8eca70\n",
            "error: Your local changes to the following files would be overwritten by merge:\n",
            "\tapps/simple_ml.py\n",
            "\tpython/needle/data/__init__.py\n",
            "\tpython/needle/nn/nn_gnn.py\n",
            "Please commit your changes or stash them before you merge.\n",
            "Aborting\n",
            "Requirement already satisfied: pybind11 in /usr/local/lib/python3.10/dist-packages (2.13.6)\n"
          ]
        }
      ],
      "source": [
        "# Code to set up the assignment\n",
        "from google.colab import drive\n",
        "drive.mount('/content/drive')\n",
        "%cd /content/drive/MyDrive/10714\n",
        "!mkdir -p final_proj\n",
        "%cd /content/drive/MyDrive/10714/final_proj\n",
        "!git clone https://github.com/AndrewZhang76/gnn_with_spmm.git\n",
        "%cd gnn_with_spmm/\n",
        "!git pull\n",
        "!pip3 install pybind11"
      ]
    },
    {
      "cell_type": "markdown",
      "source": [
        "## 2. Build"
      ],
      "metadata": {
        "id": "PidjQAHYbNf6"
      }
    },
    {
      "cell_type": "code",
      "source": [
        "%cd /content/drive/MyDrive/10714/final_proj/gnn_with_spmm/\n",
        "!make"
      ],
      "metadata": {
        "id": "-U1A2kF6CpzT",
        "outputId": "d8d9073a-fc55-4fd0-b4c0-0f9e3abe0976",
        "colab": {
          "base_uri": "https://localhost:8080/"
        }
      },
      "execution_count": 2,
      "outputs": [
        {
          "output_type": "stream",
          "name": "stdout",
          "text": [
            "/content/drive/MyDrive/10714/final_proj/gnn_with_spmm\n",
            "-- Found pybind11: /usr/local/lib/python3.10/dist-packages/pybind11/include (found version \"2.13.6\")\n",
            "\u001b[33mCMake Warning (dev) at CMakeLists.txt:57 (find_package):\n",
            "  Policy CMP0146 is not set: The FindCUDA module is removed.  Run \"cmake\n",
            "  --help-policy CMP0146\" for policy details.  Use the cmake_policy command to\n",
            "  set the policy and suppress this warning.\n",
            "\n",
            "This warning is for project developers.  Use -Wno-dev to suppress it.\n",
            "\u001b[0m\n",
            "-- CUDA_FOUND: TRUE\n",
            "-- Found cuda, building cuda backend\n",
            "Wed Dec 11 22:54:31 2024       \n",
            "+---------------------------------------------------------------------------------------+\n",
            "| NVIDIA-SMI 535.104.05             Driver Version: 535.104.05   CUDA Version: 12.2     |\n",
            "|-----------------------------------------+----------------------+----------------------+\n",
            "| GPU  Name                 Persistence-M | Bus-Id        Disp.A | Volatile Uncorr. ECC |\n",
            "| Fan  Temp   Perf          Pwr:Usage/Cap |         Memory-Usage | GPU-Util  Compute M. |\n",
            "|                                         |                      |               MIG M. |\n",
            "|=========================================+======================+======================|\n",
            "|   0  Tesla T4                       Off | 00000000:00:04.0 Off |                    0 |\n",
            "| N/A   43C    P8               9W /  70W |      0MiB / 15360MiB |      0%      Default |\n",
            "|                                         |                      |                  N/A |\n",
            "+-----------------------------------------+----------------------+----------------------+\n",
            "                                                                                         \n",
            "+---------------------------------------------------------------------------------------+\n",
            "| Processes:                                                                            |\n",
            "|  GPU   GI   CI        PID   Type   Process name                            GPU Memory |\n",
            "|        ID   ID                                                             Usage      |\n",
            "|=======================================================================================|\n",
            "|  No running processes found                                                           |\n",
            "+---------------------------------------------------------------------------------------+\n",
            "-- Autodetected CUDA architecture(s):  7.5\n",
            "-- Configuring done (1.2s)\n",
            "-- Generating done (1.0s)\n",
            "-- Build files have been written to: /content/drive/MyDrive/10714/final_proj/gnn_with_spmm/build\n",
            "make[1]: Entering directory '/content/drive/MyDrive/10714/final_proj/gnn_with_spmm/build'\n",
            "make[2]: Entering directory '/content/drive/MyDrive/10714/final_proj/gnn_with_spmm/build'\n",
            "make[3]: Entering directory '/content/drive/MyDrive/10714/final_proj/gnn_with_spmm/build'\n",
            "make[3]: Leaving directory '/content/drive/MyDrive/10714/final_proj/gnn_with_spmm/build'\n",
            "[  0%] Built target ndarray_backend_cpu\n",
            "make[3]: Entering directory '/content/drive/MyDrive/10714/final_proj/gnn_with_spmm/build'\n",
            "make[3]: Leaving directory '/content/drive/MyDrive/10714/final_proj/gnn_with_spmm/build'\n",
            "[ 50%] Built target ndarray_backend_cuda\n",
            "make[2]: Leaving directory '/content/drive/MyDrive/10714/final_proj/gnn_with_spmm/build'\n",
            "make[1]: Leaving directory '/content/drive/MyDrive/10714/final_proj/gnn_with_spmm/build'\n"
          ]
        }
      ]
    },
    {
      "cell_type": "code",
      "source": [
        "%set_env PYTHONPATH ./python\n",
        "%set_env NEEDLE_BACKEND nd"
      ],
      "metadata": {
        "id": "i4J1P8RQi38J",
        "outputId": "7e91f7e0-349a-430a-82aa-5a7f8a1dd09c",
        "colab": {
          "base_uri": "https://localhost:8080/"
        }
      },
      "execution_count": 3,
      "outputs": [
        {
          "output_type": "stream",
          "name": "stdout",
          "text": [
            "env: PYTHONPATH=./python\n",
            "env: NEEDLE_BACKEND=nd\n"
          ]
        }
      ]
    },
    {
      "cell_type": "markdown",
      "source": [
        "## 3. Sparse Matrix Definiation.\n",
        "In this project, we defined a new way to represent a sparse matrix(a type of matrix that contains a significant number of zero elements compared to the total number of elements in the matrix.) - **COO (Coordinate) format**. \\\n",
        "The COO (Coordinate) format is a representation of a sparse matrix that stores only the nonzero elements along with their row and column indices. It is efficient in terms of memory usage for sparse matrices because it avoids storing zero values.\\\n",
        "### Key Components:\n",
        "\n",
        "\n",
        "1.   Values (data): A list or array of the nonzero elements in the matrix.\n",
        "2.   Row indices (row): A list or array specifying the row index for each nonzero element.\n",
        "3. Column indices (col): A list or array specifying the column index for each nonzero element.\n",
        "\n",
        "###Properties:\n",
        "1. Flexible: Allows easy manipulation, such as matrix construction from nonzero entries.\n",
        "2. Duplicates: COO format allows duplicate entries. To obtain the actual matrix, these duplicates need to be summed.\n",
        "3. Conversion: Often converted to other formats like CSR (Compressed Sparse Row) or CSC (Compressed Sparse Column) for efficient matrix operations.\n",
        "\n",
        "\n",
        "\n",
        "\n"
      ],
      "metadata": {
        "id": "NBwt22_ObUkN"
      }
    },
    {
      "cell_type": "markdown",
      "source": [
        "#### First, we are going to randomly generate a sparse matrix in normal NDArray format. It is a 10 * 10 matrix with 10 non-zero elements."
      ],
      "metadata": {
        "id": "NBbzz7ACi1sr"
      }
    },
    {
      "cell_type": "code",
      "source": [
        "%cd /content/drive/MyDrive/10714/final_proj/gnn_with_spmm/python/needle\n",
        "import numpy as np\n",
        "from backend_ndarray.ndarray import *\n",
        "\n",
        "np.random.seed(0)\n",
        "device = cuda()\n",
        "# Dimensions of the matrix\n",
        "rows, cols = 10, 10\n",
        "nonzero_elements = 10\n",
        "\n",
        "# Initialize a sparse matrix with all zeros\n",
        "matrix = np.zeros((rows, cols))\n",
        "\n",
        "# Randomly generate indices for nonzero elements\n",
        "row_indices = np.random.choice(rows, nonzero_elements, replace=True)\n",
        "col_indices = np.random.choice(cols, nonzero_elements, replace=True)\n",
        "\n",
        "# Generate random values for the nonzero elements\n",
        "values = np.random.random(nonzero_elements)\n",
        "\n",
        "# Populate the matrix\n",
        "for r, c, v in zip(row_indices, col_indices, values):\n",
        "    matrix[r, c] = v\n",
        "\n",
        "orig_matrix = NDArray(matrix, device=device)\n",
        "orig_matrix"
      ],
      "metadata": {
        "id": "N-Sr6XHhdH7t",
        "outputId": "49f6c753-98a9-4459-9b17-42708db56670",
        "colab": {
          "base_uri": "https://localhost:8080/"
        }
      },
      "execution_count": 4,
      "outputs": [
        {
          "output_type": "stream",
          "name": "stdout",
          "text": [
            "/content/drive/MyDrive/10714/final_proj/gnn_with_spmm/python/needle\n"
          ]
        },
        {
          "output_type": "execute_result",
          "data": {
            "text/plain": [
              "NDArray([[0.         0.         0.         0.         0.         0.\n",
              "  0.07103606 0.         0.         0.        ]\n",
              " [0.         0.         0.         0.         0.         0.\n",
              "  0.         0.         0.         0.        ]\n",
              " [0.         0.         0.         0.         0.         0.\n",
              "  0.         0.         0.7991586  0.        ]\n",
              " [0.         0.         0.         0.         0.         0.\n",
              "  0.         0.87001216 0.0202184  0.        ]\n",
              " [0.         0.46147937 0.         0.         0.         0.\n",
              "  0.         0.         0.         0.        ]\n",
              " [0.         0.         0.         0.         0.         0.\n",
              "  0.         0.9786183  0.         0.        ]\n",
              " [0.         0.         0.         0.         0.         0.\n",
              "  0.         0.         0.         0.        ]\n",
              " [0.         0.83261985 0.         0.         0.         0.\n",
              "  0.         0.         0.         0.        ]\n",
              " [0.         0.         0.         0.         0.         0.\n",
              "  0.         0.         0.         0.        ]\n",
              " [0.         0.         0.         0.         0.         0.\n",
              "  0.77815676 0.         0.         0.        ]], device=cuda())"
            ]
          },
          "metadata": {},
          "execution_count": 4
        }
      ]
    },
    {
      "cell_type": "markdown",
      "source": [
        "#### Then, we are going to transform it to a sparse matrix."
      ],
      "metadata": {
        "id": "8pAHofaUjG1m"
      }
    },
    {
      "cell_type": "code",
      "source": [
        "sparse_matrix = orig_matrix.to_sparse()\n",
        "sparse_matrix"
      ],
      "metadata": {
        "id": "R3gQhP-3jGYZ",
        "outputId": "c3469b26-34b4-4e55-c28a-7c5750b7f0c3",
        "colab": {
          "base_uri": "https://localhost:8080/"
        }
      },
      "execution_count": 5,
      "outputs": [
        {
          "output_type": "execute_result",
          "data": {
            "text/plain": [
              "SparseMatrix(nnz=8, shape=(10, 10),\n",
              "  data=[0.07103606 0.7991586  0.87001216 0.0202184  0.46147937 0.9786183\n",
              " 0.83261985 0.77815676],\n",
              "  row_indices=[0 2 3 3 4 5 7 9],\n",
              "  col_indices=[6 8 7 8 1 7 1 6])"
            ]
          },
          "metadata": {},
          "execution_count": 5
        }
      ]
    },
    {
      "cell_type": "markdown",
      "source": [
        "As you can see, the sparse matrix contains three length 10 array, `data`, `row_indices` and `col_indices`. The `data` represents the values of the all the non-zero elements inside the matrix, while `row_indices` and `col_indices` represents the row and column index of each non-zero element's index.\n",
        "\n",
        "We can also switch the sparse matrix back to dense matrix by calling `to_dense()` function.\n",
        "\n"
      ],
      "metadata": {
        "id": "CPaUh5xojQ_9"
      }
    },
    {
      "cell_type": "code",
      "source": [
        "dense_matrix = sparse_matrix.to_dense()\n",
        "dense_matrix"
      ],
      "metadata": {
        "id": "aeLbPoXAkCyq",
        "outputId": "15f27724-aac1-462b-bfff-f72ab0211615",
        "colab": {
          "base_uri": "https://localhost:8080/"
        }
      },
      "execution_count": 6,
      "outputs": [
        {
          "output_type": "execute_result",
          "data": {
            "text/plain": [
              "NDArray([[0.         0.         0.         0.         0.         0.\n",
              "  0.07103606 0.         0.         0.        ]\n",
              " [0.         0.         0.         0.         0.         0.\n",
              "  0.         0.         0.         0.        ]\n",
              " [0.         0.         0.         0.         0.         0.\n",
              "  0.         0.         0.7991586  0.        ]\n",
              " [0.         0.         0.         0.         0.         0.\n",
              "  0.         0.87001216 0.0202184  0.        ]\n",
              " [0.         0.46147937 0.         0.         0.         0.\n",
              "  0.         0.         0.         0.        ]\n",
              " [0.         0.         0.         0.         0.         0.\n",
              "  0.         0.9786183  0.         0.        ]\n",
              " [0.         0.         0.         0.         0.         0.\n",
              "  0.         0.         0.         0.        ]\n",
              " [0.         0.83261985 0.         0.         0.         0.\n",
              "  0.         0.         0.         0.        ]\n",
              " [0.         0.         0.         0.         0.         0.\n",
              "  0.         0.         0.         0.        ]\n",
              " [0.         0.         0.         0.         0.         0.\n",
              "  0.77815676 0.         0.         0.        ]], device=cuda())"
            ]
          },
          "metadata": {},
          "execution_count": 6
        }
      ]
    },
    {
      "cell_type": "markdown",
      "source": [
        "## 4. Sparse Matrix Multiplication\n",
        "### COO Format Matrix Multiplication\n",
        "\n",
        "Matrix multiplication in the **COO (Coordinate)** format involves multiplying two sparse matrices that are represented in the COO format. Since the COO format only stores nonzero elements along with their row and column indices, performing multiplication requires processing each nonzero element and its corresponding coordinates.\n",
        "\n",
        "#### Step 1: Represent the Matrices in COO Format\n",
        "Assume two matrices A and B, both stored in COO format. They are represented by the following components:\n",
        "\n",
        "- **Matrix A**:\n",
        "  - `A_data`: Nonzero values in matrix A.\n",
        "  - `A_row`: Row indices of the nonzero values in A.\n",
        "  - `A_col`: Column indices of the nonzero values in A.\n",
        "\n",
        "- **Matrix B**:\n",
        "  - `B_data`: Nonzero values in matrix B.\n",
        "  - `B_row`: Row indices of the nonzero values in B.\n",
        "  - `B_col`: Column indices of the nonzero values in B.\n",
        "\n",
        "Let matrix A be of size m × n and matrix B be of size n × p. The resulting matrix C will be of size m × p.\n",
        "\n",
        "#### Step 2: Initialize the Resultant Matrix\n",
        "The resulting matrix C will also be sparse and initially contain only zeros. In COO format, the result will have:\n",
        "\n",
        "- `C_data`: Nonzero values of the resulting matrix.\n",
        "- `C_row`: Row indices of the nonzero values in C.\n",
        "- `C_col`: Column indices of the nonzero values in C.\n",
        "\n",
        "#### Step 3: Compute Nonzero Elements of the Result\n",
        "To calculate C = A × B, follow these steps for each nonzero element of A:\n",
        "\n",
        "1. **Find the corresponding element in matrix B**: For each nonzero element A_ij in A, find the corresponding column indices of B. The row index in B must match the column index in A to compute the dot product.\n",
        "\n",
        "2. **Perform the multiplication**: For each pair of nonzero elements A_ij and B_jk, multiply them together and add to the corresponding entry in C:\n",
        "   \n",
        "   ```\n",
        "   C_ik = C_ik + A_ij × B_jk\n",
        "   ```\n",
        "\n",
        "3. **Store the result**: If C_ik is nonzero after the above addition, store the result in the COO format:\n",
        "   - Add the value of C_ik to `C_data`.\n",
        "   - Add the row index i to `C_row`.\n",
        "   - Add the column index k to `C_col`.\n",
        "\n",
        "#### Step 4: Handle Sparse Properties\n",
        "Since the result matrix C is also sparse, ensure that only nonzero values are stored. If the sum of C_ik is zero, it should not be stored in the COO format.\n",
        "#### Define two sparse matrices.\n"
      ],
      "metadata": {
        "id": "V7knxQA5kTql"
      }
    },
    {
      "cell_type": "code",
      "source": [
        "m, n, p = 500, 500, 500\n",
        "device = cuda()\n",
        "nnz = 100\n",
        "# Initialize a sparse matrix with all zeros\n",
        "matrix1 = np.zeros((m, n))\n",
        "matrix2 = np.zeros((n, p))\n",
        "\n",
        "# Randomly generate indices for nonzero elements\n",
        "row_indices_1 = np.random.choice(m, nnz, replace=True)\n",
        "col_indices_1 = np.random.choice(n, nnz, replace=True)\n",
        "row_indices_2 = np.random.choice(n, nnz, replace=True)\n",
        "col_indices_2 = np.random.choice(p, nnz, replace=True)\n",
        "\n",
        "# Generate random values for the nonzero elements\n",
        "values_1 = np.random.random(nnz)\n",
        "values_2 = np.random.random(nnz)\n",
        "\n",
        "# Populate the matrix\n",
        "for r, c, v in zip(row_indices_1, col_indices_2, values_1):\n",
        "    matrix1[r, c] = v\n",
        "for r, c, v in zip(row_indices_2, col_indices_2, values_2):\n",
        "    matrix2[r, c] = v\n",
        "\n",
        "dense_matrix1 = NDArray(matrix1, device=device)\n",
        "dense_matrix2 = NDArray(matrix2, device=device)\n",
        "dense_matrix1, dense_matrix2"
      ],
      "metadata": {
        "id": "SL-cMfnNkkQu",
        "outputId": "595e6f21-ccba-41a1-ce3f-1ad30fb17946",
        "colab": {
          "base_uri": "https://localhost:8080/"
        }
      },
      "execution_count": 7,
      "outputs": [
        {
          "output_type": "execute_result",
          "data": {
            "text/plain": [
              "(NDArray([[0. 0. 0. ... 0. 0. 0.]\n",
              "  [0. 0. 0. ... 0. 0. 0.]\n",
              "  [0. 0. 0. ... 0. 0. 0.]\n",
              "  ...\n",
              "  [0. 0. 0. ... 0. 0. 0.]\n",
              "  [0. 0. 0. ... 0. 0. 0.]\n",
              "  [0. 0. 0. ... 0. 0. 0.]], device=cuda()),\n",
              " NDArray([[0. 0. 0. ... 0. 0. 0.]\n",
              "  [0. 0. 0. ... 0. 0. 0.]\n",
              "  [0. 0. 0. ... 0. 0. 0.]\n",
              "  ...\n",
              "  [0. 0. 0. ... 0. 0. 0.]\n",
              "  [0. 0. 0. ... 0. 0. 0.]\n",
              "  [0. 0. 0. ... 0. 0. 0.]], device=cuda()))"
            ]
          },
          "metadata": {},
          "execution_count": 7
        }
      ]
    },
    {
      "cell_type": "code",
      "source": [
        "# Convert dense matrices to sparse matrices.\n",
        "sparse_matrix1 = dense_matrix1.to_sparse()\n",
        "sparse_matrix2 = dense_matrix2.to_sparse()\n",
        "sparse_matrix1, sparse_matrix2"
      ],
      "metadata": {
        "id": "NHE20CY8l80J",
        "outputId": "645c51ff-cc98-48cc-b585-687dedccb71a",
        "colab": {
          "base_uri": "https://localhost:8080/"
        }
      },
      "execution_count": 8,
      "outputs": [
        {
          "output_type": "execute_result",
          "data": {
            "text/plain": [
              "(SparseMatrix(nnz=100, shape=(500, 500),\n",
              "   data=[0.3960597  0.37416998 0.29214752 0.6304479  0.58641016 0.76532525\n",
              "  0.40724117 0.13248764 0.05537432 0.35561273 0.4783703  0.10029394\n",
              "  0.46357542 0.96157014 0.6178767  0.1314828  0.07952208 0.79920256\n",
              "  0.23170163 0.77058077 0.96193635 0.29302028 0.49739137 0.14484777\n",
              "  0.42468548 0.97749513 0.63947254 0.18327984 0.22431703 0.09784448\n",
              "  0.8638556  0.9473706  0.21550767 0.72559434 0.11753186 0.05342718\n",
              "  0.24536721 0.82211775 0.7168597  0.20747007 0.01323686 0.27762872\n",
              "  0.14694664 0.9065555  0.8621915  0.58678436 0.9037197  0.9295293\n",
              "  0.02566272 0.08960304 0.14814086 0.87650526 0.08342244 0.9608347\n",
              "  0.21331197 0.06395527 0.5654213  0.42053947 0.8605512  0.23223414\n",
              "  0.66991657 0.3472335  0.511319   0.55219245 0.08110139 0.7270443\n",
              "  0.13690028 0.4856276  0.6720478  0.13206811 0.26211816 0.33314514\n",
              "  0.01642963 0.9493188  0.2703279  0.94043195 0.58447605 0.87428796\n",
              "  0.7740473  0.7308558  0.9413777  0.68328136 0.5573688  0.48805627\n",
              "  0.25394166 0.84894353 0.33815897 0.28173012 0.97291946 0.24082878\n",
              "  0.5182007  0.01142746 0.5173791  0.9818294  0.30159864 0.3685846\n",
              "  0.18984792 0.7486636  0.45614058 0.7851529 ],\n",
              "   row_indices=[ 28  32  42  53  57  38  48  69  42  53  47  31  31  82  84  98  94  99\n",
              "   91  95 105 121 127 128 127 119 131 128 143 148 151 147 147 163 163 169\n",
              "  178 180 183 185 203 202 197 207 227 244 244 257 265 256 262 267 273 279\n",
              "  288 291 290 292 304 305 321 324 334 335 341 349 356 358 369 370 368 373\n",
              "  376 384 387 389 388 396 397 398 398 405 418 420 423 426 430 425 442 442\n",
              "  449 448 459 452 461 460 488 488 487 487],\n",
              "   col_indices=[359 291 396  83 423 146 191 307 120 241 480 373 376 198 174  81 238  43\n",
              "  455  93 357 297 475 286 368 150 329 114 384 470 372 254 437 440 292 136\n",
              "  147 209 323 209 405 347 379 164  63 168 221 322 129  87 345 414 340 106\n",
              "  136  39 291  72  87 195 111 201 442   2 116  13 491 459 160  25 439  24\n",
              "  253 274 314 289  69 433  94  80 348 203 455  29 446  93 145 341  16  44\n",
              "  189 347 176 498 372  28 105 273 320  91]),\n",
              " SparseMatrix(nnz=100, shape=(500, 500),\n",
              "   data=[0.51001686 0.6969972  0.01203622 0.990345   0.85772264 0.3267009\n",
              "  0.39843425 0.5361775  0.06271295 0.42403224 0.37381315 0.3708528\n",
              "  0.9040444  0.251941   0.58759964 0.01560606 0.39902532 0.72416764\n",
              "  0.03330463 0.13105524 0.9591666  0.69002503 0.37992695 0.16053882\n",
              "  0.07695644 0.1154843  0.3068101  0.3277204  0.15941447 0.5757512\n",
              "  0.7963915  0.25942257 0.79979587 0.8155238  0.75677866 0.7774076\n",
              "  0.4569114  0.8820414  0.49030533 0.69962204 0.6144647  0.9518745\n",
              "  0.9564057  0.45860395 0.54380596 0.18523233 0.6956254  0.03536244\n",
              "  0.45985588 0.57754296 0.39267567 0.61848027 0.28351885 0.59098417\n",
              "  0.12886056 0.9742562  0.09961493 0.4090541  0.86948854 0.0446123\n",
              "  0.2728219  0.05684808 0.94530153 0.63876176 0.22116092 0.90398395\n",
              "  0.6455702  0.9589827  0.0163285  0.25868407 0.8207671  0.9088437\n",
              "  0.7786954  0.18115096 0.42879573 0.5188351  0.06807408 0.9292914\n",
              "  0.9594333  0.3567069  0.43040243 0.9894098  0.4541624  0.8490383\n",
              "  0.35536885 0.2531912  0.24002028 0.03307459 0.23274413 0.4012595\n",
              "  0.62889844 0.19705428 0.16295442 0.6813925  0.7885455  0.45722345\n",
              "  0.1871309  0.45813882 0.6360611  0.2775961 ],\n",
              "   row_indices=[ 24  13  33  36  27  27  29  67  67  35  79  40  11  44  41  61  32  43\n",
              "   73  88 111 104 121 125 111 133 129 138 148 151 156 152 166 174 182 184\n",
              "  189 197 197 212 199 217 204 215 214 218 228 216 207 223 234 232 251 258\n",
              "  259 255 259 256 265 267 274 287 287 290 290 291 300 297 302 295 309 307\n",
              "  327 326 341 349 353 364 374 387 381 382 394 393 407 418 421 423 429 434\n",
              "  437 438 459 466 469 467 486 488 491 495],\n",
              "   col_indices=[273 129 455  81 297 307 329 221  28 491 376 372  39  87 347  93 423 341\n",
              "  442  72  43 459  80 274 359  87 114 414 480 405 348 291 323 498 145 368\n",
              "  322 111 320 150 440 174 396  91 253 106 437 289 176 286 357  13 254 433\n",
              "   69 314  24 120 191  25 168 189 116 439 160 373 241 384  16 209 201 345\n",
              "  209 446 379 291 238  94  29  63 146 203 195 105 470 147 455 347 136 164\n",
              "  475 292 372 340 136  93  44  83 198   2]))"
            ]
          },
          "metadata": {},
          "execution_count": 8
        }
      ]
    },
    {
      "cell_type": "markdown",
      "source": [
        "#### Matrix Multiplication between dense matrices."
      ],
      "metadata": {
        "id": "vwtVy7Xilioy"
      }
    },
    {
      "cell_type": "code",
      "source": [
        "import time\n",
        "start = time.time()\n",
        "correct_result = dense_matrix1 @ dense_matrix2\n",
        "end = time.time()\n",
        "print(f\"Time taken for dense-dense matrix multipliction: {(end - start)*1000} ms\")\n",
        "correct_result"
      ],
      "metadata": {
        "id": "PcR5JUpvlaUV",
        "outputId": "d8b8c98c-c729-4f1d-a5ed-1135dcd7c0df",
        "colab": {
          "base_uri": "https://localhost:8080/"
        }
      },
      "execution_count": 9,
      "outputs": [
        {
          "output_type": "stream",
          "name": "stdout",
          "text": [
            "Time taken for dense-dense matrix multipliction: 0.4928112030029297 ms\n"
          ]
        },
        {
          "output_type": "execute_result",
          "data": {
            "text/plain": [
              "NDArray([[0. 0. 0. ... 0. 0. 0.]\n",
              " [0. 0. 0. ... 0. 0. 0.]\n",
              " [0. 0. 0. ... 0. 0. 0.]\n",
              " ...\n",
              " [0. 0. 0. ... 0. 0. 0.]\n",
              " [0. 0. 0. ... 0. 0. 0.]\n",
              " [0. 0. 0. ... 0. 0. 0.]], device=cuda())"
            ]
          },
          "metadata": {},
          "execution_count": 9
        }
      ]
    },
    {
      "cell_type": "markdown",
      "source": [
        "#### Matrix Multiplication between sparse matrices."
      ],
      "metadata": {
        "id": "mtJqrryEmNso"
      }
    },
    {
      "cell_type": "code",
      "source": [
        "start = time.time()\n",
        "result = sparse_matrix1 @ sparse_matrix2\n",
        "print(result)\n",
        "# result = result.to_dense() # when flag = True return dense\n",
        "end = time.time()\n",
        "print(f\"Time taken for sparse-sparse matrix multipliction: {(end - start)*1000} ms\")\n",
        "print(f\"Result Correction: \\n{np.allclose(correct_result.numpy(), result.numpy())}\")"
      ],
      "metadata": {
        "id": "rQdvy4RJmXcv",
        "outputId": "a665bb4e-bf79-47d1-b544-25e584ce6819",
        "colab": {
          "base_uri": "https://localhost:8080/"
        }
      },
      "execution_count": 10,
      "outputs": [
        {
          "output_type": "stream",
          "name": "stdout",
          "text": [
            "[[0. 0. 0. ... 0. 0. 0.]\n",
            " [0. 0. 0. ... 0. 0. 0.]\n",
            " [0. 0. 0. ... 0. 0. 0.]\n",
            " ...\n",
            " [0. 0. 0. ... 0. 0. 0.]\n",
            " [0. 0. 0. ... 0. 0. 0.]\n",
            " [0. 0. 0. ... 0. 0. 0.]]\n",
            "Time taken for sparse-sparse matrix multipliction: 1.4920234680175781 ms\n",
            "Result Correction: \n",
            "True\n"
          ]
        }
      ]
    },
    {
      "cell_type": "code",
      "source": [
        "start = time.time()\n",
        "result = sparse_matrix1 @ dense_matrix2\n",
        "result = result\n",
        "end = time.time()\n",
        "print(f\"Time taken for sparse-dense matrix multipliction: {(end - start)*1000} ms\")\n",
        "print(f\"Result Correction: \\n{np.allclose(correct_result.numpy(), result.numpy())}\")"
      ],
      "metadata": {
        "id": "a-9KWLwRnuyt",
        "outputId": "d410b9a9-bb09-475c-e2ec-301e83707666",
        "colab": {
          "base_uri": "https://localhost:8080/"
        }
      },
      "execution_count": 11,
      "outputs": [
        {
          "output_type": "stream",
          "name": "stdout",
          "text": [
            "Time taken for sparse-dense matrix multipliction: 0.6587505340576172 ms\n",
            "Result Correction: \n",
            "True\n"
          ]
        }
      ]
    },
    {
      "cell_type": "code",
      "source": [
        "start = time.time()\n",
        "result = dense_matrix1 @ sparse_matrix2\n",
        "result = result\n",
        "end = time.time()\n",
        "print(f\"Time taken for dense-sparse matrix multipliction: {(end - start)*1000} ms\")\n",
        "print(f\"Result Correction: \\n{np.allclose(correct_result.numpy(), result.numpy())}\")"
      ],
      "metadata": {
        "id": "1ukY2wXRn4dk",
        "outputId": "422698f8-1a23-471e-8dd4-799c58cbfe6f",
        "colab": {
          "base_uri": "https://localhost:8080/"
        }
      },
      "execution_count": 12,
      "outputs": [
        {
          "output_type": "stream",
          "name": "stdout",
          "text": [
            "Time taken for dense-sparse matrix multipliction: 0.3762245178222656 ms\n",
            "Result Correction: \n",
            "True\n"
          ]
        }
      ]
    },
    {
      "cell_type": "code",
      "source": [
        "!python -m backend_ndarray.ndarray"
      ],
      "metadata": {
        "id": "i7I2JjuJkVLf",
        "outputId": "23b90d84-1076-4035-ced9-59da5361b520",
        "colab": {
          "base_uri": "https://localhost:8080/"
        }
      },
      "execution_count": 13,
      "outputs": [
        {
          "output_type": "stream",
          "name": "stdout",
          "text": [
            "/usr/lib/python3.10/runpy.py:126: RuntimeWarning: 'backend_ndarray.ndarray' found in sys.modules after import of package 'backend_ndarray', but prior to execution of 'backend_ndarray.ndarray'; this may result in unpredictable behaviour\n",
            "  warn(RuntimeWarning(msg))\n",
            "Time for dense @ dense: 0.2353191375732422 ms\n",
            "Time for dense @ sparse: 0.8838176727294922 ms\n",
            "Time for sparse @ dense: 0.24557113647460938 ms\n",
            "Time for sparse @ sparse: 0.08702278137207031 ms\n",
            "Total time: 1.2164115905761719 ms\n",
            "dense @ sparse: True\n",
            "sparse @ dense: True\n",
            "sparse @ sparse: True\n"
          ]
        }
      ]
    },
    {
      "cell_type": "markdown",
      "source": [
        "## Graph Neural Network(GNN)\n",
        "A Graph Neural Network (GNN) is a type of neural network specifically designed to process and analyze data structured as graphs. In a graph, data is represented as nodes (vertices) connected by edges (links), which may have associated features or attributes.\n",
        "### Common GNN Architectures:\n",
        "1. Graph Convolutional Networks (GCN): Generalizes the concept of convolution to graphs.\n",
        "2. Graph Attention Networks (GAT): Uses attention mechanisms to weigh neighbor contributions.\n",
        "3. GraphSAGE: Focuses on efficient sampling and aggregating information from neighbors.\n",
        "\n",
        "In this project, we are going to implement Graph Convolutional Network(GCN) and use sparse matrix multiplication mechnisms we implemented to accelerate its forward and backward passes."
      ],
      "metadata": {
        "id": "6H_e4ZpKN7G2"
      }
    },
    {
      "cell_type": "markdown",
      "source": [
        "### 1. Restart session and build file"
      ],
      "metadata": {
        "id": "RC6Rkimj87Og"
      }
    },
    {
      "cell_type": "code",
      "source": [
        "%cd /content/drive/MyDrive/10714/final_proj/gnn_with_spmm\n",
        "!make\n",
        "%set_env PYTHONPATH ./python\n",
        "%set_env NEEDLE_BACKEND nd"
      ],
      "metadata": {
        "colab": {
          "base_uri": "https://localhost:8080/"
        },
        "id": "s28PvEQs7yvl",
        "outputId": "a3962a6a-c331-44b3-8be8-fc08bf3f1f98"
      },
      "execution_count": 1,
      "outputs": [
        {
          "output_type": "stream",
          "name": "stdout",
          "text": [
            "/content/drive/MyDrive/10714/final_proj/gnn_with_spmm\n",
            "-- Found pybind11: /usr/local/lib/python3.10/dist-packages/pybind11/include (found version \"2.13.6\")\n",
            "\u001b[33mCMake Warning (dev) at CMakeLists.txt:57 (find_package):\n",
            "  Policy CMP0146 is not set: The FindCUDA module is removed.  Run \"cmake\n",
            "  --help-policy CMP0146\" for policy details.  Use the cmake_policy command to\n",
            "  set the policy and suppress this warning.\n",
            "\n",
            "This warning is for project developers.  Use -Wno-dev to suppress it.\n",
            "\u001b[0m\n",
            "-- CUDA_FOUND: TRUE\n",
            "-- Found cuda, building cuda backend\n",
            "Thu Dec 12 00:00:58 2024       \n",
            "+---------------------------------------------------------------------------------------+\n",
            "| NVIDIA-SMI 535.104.05             Driver Version: 535.104.05   CUDA Version: 12.2     |\n",
            "|-----------------------------------------+----------------------+----------------------+\n",
            "| GPU  Name                 Persistence-M | Bus-Id        Disp.A | Volatile Uncorr. ECC |\n",
            "| Fan  Temp   Perf          Pwr:Usage/Cap |         Memory-Usage | GPU-Util  Compute M. |\n",
            "|                                         |                      |               MIG M. |\n",
            "|=========================================+======================+======================|\n",
            "|   0  Tesla T4                       Off | 00000000:00:04.0 Off |                    0 |\n",
            "| N/A   38C    P8               9W /  70W |      0MiB / 15360MiB |      0%      Default |\n",
            "|                                         |                      |                  N/A |\n",
            "+-----------------------------------------+----------------------+----------------------+\n",
            "                                                                                         \n",
            "+---------------------------------------------------------------------------------------+\n",
            "| Processes:                                                                            |\n",
            "|  GPU   GI   CI        PID   Type   Process name                            GPU Memory |\n",
            "|        ID   ID                                                             Usage      |\n",
            "|=======================================================================================|\n",
            "|  No running processes found                                                           |\n",
            "+---------------------------------------------------------------------------------------+\n",
            "-- Autodetected CUDA architecture(s):  7.5\n",
            "-- Configuring done (0.8s)\n",
            "-- Generating done (0.6s)\n",
            "-- Build files have been written to: /content/drive/MyDrive/10714/final_proj/gnn_with_spmm/build\n",
            "make[1]: Entering directory '/content/drive/MyDrive/10714/final_proj/gnn_with_spmm/build'\n",
            "make[2]: Entering directory '/content/drive/MyDrive/10714/final_proj/gnn_with_spmm/build'\n",
            "make[3]: Entering directory '/content/drive/MyDrive/10714/final_proj/gnn_with_spmm/build'\n",
            "make[3]: Leaving directory '/content/drive/MyDrive/10714/final_proj/gnn_with_spmm/build'\n",
            "[  0%] Built target ndarray_backend_cpu\n",
            "make[3]: Entering directory '/content/drive/MyDrive/10714/final_proj/gnn_with_spmm/build'\n",
            "make[3]: Leaving directory '/content/drive/MyDrive/10714/final_proj/gnn_with_spmm/build'\n",
            "[ 50%] Built target ndarray_backend_cuda\n",
            "make[2]: Leaving directory '/content/drive/MyDrive/10714/final_proj/gnn_with_spmm/build'\n",
            "make[1]: Leaving directory '/content/drive/MyDrive/10714/final_proj/gnn_with_spmm/build'\n",
            "env: PYTHONPATH=./python\n",
            "env: NEEDLE_BACKEND=nd\n"
          ]
        }
      ]
    },
    {
      "cell_type": "markdown",
      "source": [
        "### 2. Processing Cora dataset\n",
        "\n",
        "The Cora dataset is one of the most widely used benchmarks for evaluating graph-based machine learning models, especially Graph Neural Networks (GNNs). It is a citation network, where nodes represent scientific publications and edges represent citation relationships between them\n",
        "\n",
        "**Dataset Overview**\n",
        "\n",
        "*   Nodes: Publications (papers, books, etc.)\n",
        "*   Edges: Citation relationships between publications\n",
        "*   Node Features: Word vectors (1433 dimensions) representing the presence/absence of words from a dictionary\n",
        "*   Labels: 7 classes representing publication types (e.g., Neural Networks, Reinforcement Learning, etc.)\n",
        "\n",
        "**Key Statistics**\n",
        "\n",
        "*   Number of graph: 1\n",
        "*   Number of Nodes: 2708\n",
        "*   Number of Edges: 5429 (undirected)\n",
        "*   Number of Features: 1433\n",
        "*   Number of Classes: 7\n",
        "\n",
        "**Implementation**\n",
        "\n",
        "The Cora dataset is processed using a class CoraDataset, implemented in cora_dataset.py under the ./python/needle/data directory. This implementation reads the raw data files (./python/data/cora/cora.content and ./python/data/cora/cora.cites), extracts the features, labels, and graph structure, and processes them into formats suitable for GNN task. The CoraDataset class is designed to load, process, and store the Cora dataset’s key components."
      ],
      "metadata": {
        "id": "2668IUxH9QyJ"
      }
    },
    {
      "cell_type": "markdown",
      "source": [
        "### 3. Implementing Graph Convolutional Neural Network\n",
        "\n",
        "The `nn_gnn.py` module implements a two layer Graph Convolutional Network architecture, focusing on two key classes: `GraphConvolution` and `simpleGCN`. We enable graph-based neural network operations by extending traditional neural network layers to work with graph-structured data.\n",
        "\n",
        "#### GraphConvolution Layer\n",
        "\n",
        "The `GraphConvolution` layer serves as the fundamental building block of graph neural networks. We design this layer to efficiently transform node features using graph adjacency information. Key implementation details include:\n",
        "\n",
        "**Learnable Parameters**\n",
        "- Weight matrix initialized using Kaiming uniform initialization\n",
        "- Optional bias term with flexible initialization\n",
        "\n",
        "**Sparse Matrix Operations**\n",
        "- Performs sparse matrix multiplication between graph adjacency matrix and node features\n",
        "- Enables efficient processing of large, sparse graph structures\n",
        "\n",
        "**Forward Propagation Mechanism**\n",
        "1. Convert adjacency matrix to sparse representation\n",
        "2. Perform sparse matrix multiplication with input features\n",
        "3. Apply linear transformation using learned weights\n",
        "4. Optionally add bias term with broadcasting\n",
        "\n",
        "#### SimpleGCN Model\n",
        "\n",
        "The `simpleGCN` class demonstrates a two-layer graph convolutional network:\n",
        "\n",
        "**Layer Composition**\n",
        "- First Layer: Graph convolution transforming input features to hidden dimension\n",
        " - Applies non-linear ReLU activation\n",
        "- Second Layer: Additional graph convolution mapping hidden features to output dimension\n",
        "- Activation: ReLU non-linearity between graph convolution layers\n"
      ],
      "metadata": {
        "id": "NzLSQduJDMw0"
      }
    },
    {
      "cell_type": "markdown",
      "source": [
        "### 4. Train and evaluate simple GCN model on cora dataset\n",
        "\n",
        "\n"
      ],
      "metadata": {
        "id": "2VcWqScmQ5Bo"
      }
    },
    {
      "cell_type": "code",
      "source": [
        "import os\n",
        "import sys\n",
        "import numpy as np\n",
        "sys.path.append('./python')\n",
        "sys.path.append('./apps')\n",
        "import needle as ndl\n",
        "import simple_ml as ml\n",
        "\n",
        "# process cora dataset\n",
        "device = ndl.cpu()\n",
        "content_path = './data/cora/cora.content'\n",
        "cites_path = './data/cora/cora.cites'\n",
        "cora_dataset = ndl.data.CoraDataset(content_path, cites_path)\n",
        "X, y, adjacency_matrix = cora_dataset.get_data()\n",
        "\n",
        "# initialize DataLoader\n",
        "X_train, y_train, adj_train, X_test, y_test, adj_test = ml.split_data(X, y, adjacency_matrix)\n",
        "train_dataloader = ndl.data.DataLoader(X_train, y_train, adj_train, batch_size=64, shuffle=True, device=device)\n",
        "test_dataloader = ndl.data.DataLoader(X_test, y_test, adj_test, batch_size=64, shuffle=False, device=device)\n",
        "\n",
        "# simple gnn model\n",
        "in_features = X.shape[1]\n",
        "hidden_features = 16\n",
        "out_features = len(np.unique(y)) # 7\n",
        "gcn_model = ndl.nn.simpleGCN(in_features, hidden_features, out_features)\n",
        "\n",
        "# train\n",
        "trained_gcn = ml.train_gcn(gcn_model, train_dataloader, num_epochs=50, learning_rate=0.005)\n",
        "# evaluate\n",
        "accuracy = ml.evaluate_gcn(trained_gcn, test_dataloader)\n",
        "print(f\"Test Accuracy: {accuracy * 100:.2f}%\")"
      ],
      "metadata": {
        "id": "nrW9hda8kofS",
        "colab": {
          "base_uri": "https://localhost:8080/"
        },
        "outputId": "625a6325-aa5d-482e-8acb-0176c90f7c00"
      },
      "execution_count": 2,
      "outputs": [
        {
          "output_type": "stream",
          "name": "stdout",
          "text": [
            "Using needle backend\n",
            "Epoch 1/50, Loss: [1.3057121], Train Accuracy: 15.56%\n",
            "Epoch 2/50, Loss: [1.3004075], Train Accuracy: 15.56%\n",
            "Epoch 3/50, Loss: [1.2891488], Train Accuracy: 15.56%\n",
            "Epoch 4/50, Loss: [1.2841461], Train Accuracy: 15.56%\n",
            "Epoch 5/50, Loss: [1.2758127], Train Accuracy: 15.56%\n",
            "Epoch 6/50, Loss: [1.271174], Train Accuracy: 15.56%\n",
            "Epoch 7/50, Loss: [1.26435], Train Accuracy: 15.56%\n",
            "Epoch 8/50, Loss: [1.2592143], Train Accuracy: 15.56%\n",
            "Epoch 9/50, Loss: [1.255543], Train Accuracy: 15.56%\n",
            "Epoch 10/50, Loss: [1.24737], Train Accuracy: 15.56%\n",
            "Epoch 11/50, Loss: [1.2422996], Train Accuracy: 15.56%\n",
            "Epoch 12/50, Loss: [1.2422956], Train Accuracy: 15.56%\n",
            "Epoch 13/50, Loss: [1.2340163], Train Accuracy: 15.65%\n",
            "Epoch 14/50, Loss: [1.2291045], Train Accuracy: 15.51%\n",
            "Epoch 15/50, Loss: [1.2256789], Train Accuracy: 15.56%\n",
            "Epoch 16/50, Loss: [1.2209854], Train Accuracy: 15.60%\n",
            "Epoch 17/50, Loss: [1.2191674], Train Accuracy: 15.37%\n",
            "Epoch 18/50, Loss: [1.213629], Train Accuracy: 15.56%\n",
            "Epoch 19/50, Loss: [1.2101226], Train Accuracy: 15.42%\n",
            "Epoch 20/50, Loss: [1.2090714], Train Accuracy: 15.74%\n",
            "Epoch 21/50, Loss: [1.2033707], Train Accuracy: 15.65%\n",
            "Epoch 22/50, Loss: [1.204248], Train Accuracy: 15.93%\n",
            "Epoch 23/50, Loss: [1.2006373], Train Accuracy: 15.65%\n",
            "Epoch 24/50, Loss: [1.1988556], Train Accuracy: 17.54%\n",
            "Epoch 25/50, Loss: [1.1939514], Train Accuracy: 30.19%\n",
            "Epoch 26/50, Loss: [1.1922444], Train Accuracy: 29.82%\n",
            "Epoch 27/50, Loss: [1.1928545], Train Accuracy: 29.55%\n",
            "Epoch 28/50, Loss: [1.1883372], Train Accuracy: 30.33%\n",
            "Epoch 29/50, Loss: [1.1854247], Train Accuracy: 30.24%\n",
            "Epoch 30/50, Loss: [1.1823179], Train Accuracy: 30.66%\n",
            "Epoch 31/50, Loss: [1.1828011], Train Accuracy: 30.84%\n",
            "Epoch 32/50, Loss: [1.1810634], Train Accuracy: 30.15%\n",
            "Epoch 33/50, Loss: [1.1788509], Train Accuracy: 29.96%\n",
            "Epoch 34/50, Loss: [1.177131], Train Accuracy: 31.07%\n",
            "Epoch 35/50, Loss: [1.1756643], Train Accuracy: 30.84%\n",
            "Epoch 36/50, Loss: [1.1762176], Train Accuracy: 30.47%\n",
            "Epoch 37/50, Loss: [1.173644], Train Accuracy: 31.16%\n",
            "Epoch 38/50, Loss: [1.1721988], Train Accuracy: 31.12%\n",
            "Epoch 39/50, Loss: [1.1690457], Train Accuracy: 31.26%\n",
            "Epoch 40/50, Loss: [1.1704862], Train Accuracy: 31.02%\n",
            "Epoch 41/50, Loss: [1.1699004], Train Accuracy: 30.75%\n",
            "Epoch 42/50, Loss: [1.1668078], Train Accuracy: 31.21%\n",
            "Epoch 43/50, Loss: [1.1715655], Train Accuracy: 29.92%\n",
            "Epoch 44/50, Loss: [1.1651988], Train Accuracy: 30.75%\n",
            "Epoch 45/50, Loss: [1.166436], Train Accuracy: 30.61%\n",
            "Epoch 46/50, Loss: [1.1654642], Train Accuracy: 30.52%\n",
            "Epoch 47/50, Loss: [1.1648045], Train Accuracy: 30.84%\n",
            "Epoch 48/50, Loss: [1.1615148], Train Accuracy: 31.12%\n",
            "Epoch 49/50, Loss: [1.1660085], Train Accuracy: 30.33%\n",
            "Epoch 50/50, Loss: [1.1633363], Train Accuracy: 30.93%\n",
            "Test Accuracy: 29.89%\n"
          ]
        }
      ]
    },
    {
      "cell_type": "code",
      "source": [],
      "metadata": {
        "id": "SePpweJj5D3D"
      },
      "execution_count": null,
      "outputs": []
    }
  ]
}