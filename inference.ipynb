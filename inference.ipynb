{
  "nbformat": 4,
  "nbformat_minor": 0,
  "metadata": {
    "colab": {
      "provenance": [],
      "gpuType": "T4",
      "include_colab_link": true
    },
    "kernelspec": {
      "name": "python3",
      "display_name": "Python 3"
    },
    "language_info": {
      "name": "python"
    },
    "accelerator": "GPU"
  },
  "cells": [
    {
      "cell_type": "markdown",
      "metadata": {
        "id": "view-in-github",
        "colab_type": "text"
      },
      "source": [
        "<a href=\"https://colab.research.google.com/github/AndrewZhang76/gnn_with_spmm/blob/main/inference.ipynb\" target=\"_parent\"><img src=\"https://colab.research.google.com/assets/colab-badge.svg\" alt=\"Open In Colab\"/></a>"
      ]
    },
    {
      "cell_type": "markdown",
      "source": [
        "# 10-414/714: Deep Learning Systems - Final Project\n",
        "\n",
        "\n",
        "## **Sparse Matrix Multiplication on Graph Neural Network**\n",
        "\n",
        "**By Andrew Zhang, Jinkai Qiu & Yimei Wu**\n",
        "\n",
        "\n",
        "---\n",
        "\n",
        "In this project, we are going to implement **sparse matrix** class supported in Needle, **forward and backward pass of sparse matrix multiplication**, and its **application on Graph Neural Network(GNN)**.\n",
        "\n",
        "In this notebook, we are going to show how to **define sparse matrix**, perform **sparse matrix multiplication** and compare it with normal dense matrix multiplication. In addition, we will also show how it can be used in **GNN training.**\n",
        "\n"
      ],
      "metadata": {
        "id": "87NGEASXY4Ht"
      }
    },
    {
      "cell_type": "markdown",
      "source": [
        "## 1. Clone Required Repo and Install Required Packages"
      ],
      "metadata": {
        "id": "vtBJoltybBDc"
      }
    },
    {
      "cell_type": "code",
      "execution_count": 1,
      "metadata": {
        "colab": {
          "base_uri": "https://localhost:8080/"
        },
        "id": "AW1iuoBMCYyp",
        "outputId": "bda702fe-72d0-4abd-f344-c39be8ca4862"
      },
      "outputs": [
        {
          "output_type": "stream",
          "name": "stdout",
          "text": [
            "Drive already mounted at /content/drive; to attempt to forcibly remount, call drive.mount(\"/content/drive\", force_remount=True).\n",
            "/content/drive/MyDrive/10714\n",
            "/content/drive/MyDrive/10714/final_proj\n",
            "fatal: destination path 'gnn_with_spmm' already exists and is not an empty directory.\n",
            "/content/drive/MyDrive/10714/final_proj/gnn_with_spmm\n",
            "Already up to date.\n",
            "Requirement already satisfied: pybind11 in /usr/local/lib/python3.10/dist-packages (2.13.6)\n"
          ]
        }
      ],
      "source": [
        "# Code to set up the assignment\n",
        "from google.colab import drive\n",
        "drive.mount('/content/drive')\n",
        "%cd /content/drive/MyDrive/10714\n",
        "!mkdir -p final_proj\n",
        "%cd /content/drive/MyDrive/10714/final_proj\n",
        "!git clone https://github.com/AndrewZhang76/gnn_with_spmm.git\n",
        "%cd gnn_with_spmm/\n",
        "!git pull\n",
        "!pip3 install pybind11"
      ]
    },
    {
      "cell_type": "markdown",
      "source": [
        "## 2. Build"
      ],
      "metadata": {
        "id": "PidjQAHYbNf6"
      }
    },
    {
      "cell_type": "code",
      "source": [
        "%cd /content/drive/MyDrive/10714/final_proj/gnn_with_spmm/\n",
        "!make"
      ],
      "metadata": {
        "id": "-U1A2kF6CpzT",
        "outputId": "cec9b657-d276-4a14-f106-0774456b3ff0",
        "colab": {
          "base_uri": "https://localhost:8080/"
        }
      },
      "execution_count": 2,
      "outputs": [
        {
          "output_type": "stream",
          "name": "stdout",
          "text": [
            "/content/drive/MyDrive/10714/final_proj/gnn_with_spmm\n",
            "-- Found pybind11: /usr/local/lib/python3.10/dist-packages/pybind11/include (found version \"2.13.6\")\n",
            "\u001b[33mCMake Warning (dev) at CMakeLists.txt:57 (find_package):\n",
            "  Policy CMP0146 is not set: The FindCUDA module is removed.  Run \"cmake\n",
            "  --help-policy CMP0146\" for policy details.  Use the cmake_policy command to\n",
            "  set the policy and suppress this warning.\n",
            "\n",
            "This warning is for project developers.  Use -Wno-dev to suppress it.\n",
            "\u001b[0m\n",
            "-- CUDA_FOUND: TRUE\n",
            "-- Found cuda, building cuda backend\n",
            "Thu Dec 12 02:20:42 2024       \n",
            "+---------------------------------------------------------------------------------------+\n",
            "| NVIDIA-SMI 535.104.05             Driver Version: 535.104.05   CUDA Version: 12.2     |\n",
            "|-----------------------------------------+----------------------+----------------------+\n",
            "| GPU  Name                 Persistence-M | Bus-Id        Disp.A | Volatile Uncorr. ECC |\n",
            "| Fan  Temp   Perf          Pwr:Usage/Cap |         Memory-Usage | GPU-Util  Compute M. |\n",
            "|                                         |                      |               MIG M. |\n",
            "|=========================================+======================+======================|\n",
            "|   0  Tesla T4                       Off | 00000000:00:04.0 Off |                    0 |\n",
            "| N/A   61C    P8              11W /  70W |      0MiB / 15360MiB |      0%      Default |\n",
            "|                                         |                      |                  N/A |\n",
            "+-----------------------------------------+----------------------+----------------------+\n",
            "                                                                                         \n",
            "+---------------------------------------------------------------------------------------+\n",
            "| Processes:                                                                            |\n",
            "|  GPU   GI   CI        PID   Type   Process name                            GPU Memory |\n",
            "|        ID   ID                                                             Usage      |\n",
            "|=======================================================================================|\n",
            "|  No running processes found                                                           |\n",
            "+---------------------------------------------------------------------------------------+\n",
            "-- Autodetected CUDA architecture(s):  7.5\n",
            "-- Configuring done (0.3s)\n",
            "-- Generating done (0.4s)\n",
            "-- Build files have been written to: /content/drive/MyDrive/10714/final_proj/gnn_with_spmm/build\n",
            "make[1]: Entering directory '/content/drive/MyDrive/10714/final_proj/gnn_with_spmm/build'\n",
            "make[2]: Entering directory '/content/drive/MyDrive/10714/final_proj/gnn_with_spmm/build'\n",
            "make[3]: Entering directory '/content/drive/MyDrive/10714/final_proj/gnn_with_spmm/build'\n",
            "make[3]: Leaving directory '/content/drive/MyDrive/10714/final_proj/gnn_with_spmm/build'\n",
            "[  0%] Built target ndarray_backend_cpu\n",
            "make[3]: Entering directory '/content/drive/MyDrive/10714/final_proj/gnn_with_spmm/build'\n",
            "make[3]: Leaving directory '/content/drive/MyDrive/10714/final_proj/gnn_with_spmm/build'\n",
            "[ 50%] Built target ndarray_backend_cuda\n",
            "make[2]: Leaving directory '/content/drive/MyDrive/10714/final_proj/gnn_with_spmm/build'\n",
            "make[1]: Leaving directory '/content/drive/MyDrive/10714/final_proj/gnn_with_spmm/build'\n"
          ]
        }
      ]
    },
    {
      "cell_type": "code",
      "source": [
        "%set_env PYTHONPATH ./python\n",
        "%set_env NEEDLE_BACKEND nd"
      ],
      "metadata": {
        "id": "i4J1P8RQi38J",
        "outputId": "77b00caa-6fc1-4a2f-c694-87f05ba3d596",
        "colab": {
          "base_uri": "https://localhost:8080/"
        }
      },
      "execution_count": 3,
      "outputs": [
        {
          "output_type": "stream",
          "name": "stdout",
          "text": [
            "env: PYTHONPATH=./python\n",
            "env: NEEDLE_BACKEND=nd\n"
          ]
        }
      ]
    },
    {
      "cell_type": "markdown",
      "source": [
        "## 3. Sparse Matrix Definiation.\n",
        "In this project, we defined a new way to represent a sparse matrix(a type of matrix that contains a significant number of zero elements compared to the total number of elements in the matrix.) - **COO (Coordinate) format**. \\\n",
        "The COO (Coordinate) format is a representation of a sparse matrix that stores only the nonzero elements along with their row and column indices. It is efficient in terms of memory usage for sparse matrices because it avoids storing zero values.\\\n",
        "### Key Components:\n",
        "\n",
        "\n",
        "1.   Values (data): A list or array of the nonzero elements in the matrix.\n",
        "2.   Row indices (row): A list or array specifying the row index for each nonzero element.\n",
        "3. Column indices (col): A list or array specifying the column index for each nonzero element.\n",
        "\n",
        "###Properties:\n",
        "1. Flexible: Allows easy manipulation, such as matrix construction from nonzero entries.\n",
        "2. Duplicates: COO format allows duplicate entries. To obtain the actual matrix, these duplicates need to be summed.\n",
        "3. Conversion: Often converted to other formats like CSR (Compressed Sparse Row) or CSC (Compressed Sparse Column) for efficient matrix operations.\n",
        "\n",
        "\n",
        "\n",
        "\n"
      ],
      "metadata": {
        "id": "NBwt22_ObUkN"
      }
    },
    {
      "cell_type": "markdown",
      "source": [
        "#### First, we are going to randomly generate a sparse matrix in normal NDArray format. It is a 10 * 10 matrix with 10 non-zero elements."
      ],
      "metadata": {
        "id": "NBbzz7ACi1sr"
      }
    },
    {
      "cell_type": "code",
      "source": [
        "%cd /content/drive/MyDrive/10714/final_proj/gnn_with_spmm/python/needle\n",
        "import numpy as np\n",
        "from backend_ndarray.ndarray import *\n",
        "\n",
        "np.random.seed(0)\n",
        "device = cuda()\n",
        "# Dimensions of the matrix\n",
        "rows, cols = 10, 10\n",
        "nonzero_elements = 10\n",
        "\n",
        "# Initialize a sparse matrix with all zeros\n",
        "matrix = np.zeros((rows, cols))\n",
        "\n",
        "# Randomly generate indices for nonzero elements\n",
        "row_indices = np.random.choice(rows, nonzero_elements, replace=True)\n",
        "col_indices = np.random.choice(cols, nonzero_elements, replace=True)\n",
        "\n",
        "# Generate random values for the nonzero elements\n",
        "values = np.random.random(nonzero_elements)\n",
        "\n",
        "# Populate the matrix\n",
        "for r, c, v in zip(row_indices, col_indices, values):\n",
        "    matrix[r, c] = v\n",
        "\n",
        "orig_matrix = NDArray(matrix, device=device)\n",
        "orig_matrix"
      ],
      "metadata": {
        "id": "N-Sr6XHhdH7t",
        "outputId": "6702f3a6-6d20-4570-bedd-dd3a26d72cea",
        "colab": {
          "base_uri": "https://localhost:8080/"
        }
      },
      "execution_count": 4,
      "outputs": [
        {
          "output_type": "stream",
          "name": "stdout",
          "text": [
            "/content/drive/MyDrive/10714/final_proj/gnn_with_spmm/python/needle\n"
          ]
        },
        {
          "output_type": "execute_result",
          "data": {
            "text/plain": [
              "NDArray([[0.         0.         0.         0.         0.         0.\n",
              "  0.07103606 0.         0.         0.        ]\n",
              " [0.         0.         0.         0.         0.         0.\n",
              "  0.         0.         0.         0.        ]\n",
              " [0.         0.         0.         0.         0.         0.\n",
              "  0.         0.         0.7991586  0.        ]\n",
              " [0.         0.         0.         0.         0.         0.\n",
              "  0.         0.87001216 0.0202184  0.        ]\n",
              " [0.         0.46147937 0.         0.         0.         0.\n",
              "  0.         0.         0.         0.        ]\n",
              " [0.         0.         0.         0.         0.         0.\n",
              "  0.         0.9786183  0.         0.        ]\n",
              " [0.         0.         0.         0.         0.         0.\n",
              "  0.         0.         0.         0.        ]\n",
              " [0.         0.83261985 0.         0.         0.         0.\n",
              "  0.         0.         0.         0.        ]\n",
              " [0.         0.         0.         0.         0.         0.\n",
              "  0.         0.         0.         0.        ]\n",
              " [0.         0.         0.         0.         0.         0.\n",
              "  0.77815676 0.         0.         0.        ]], device=cuda())"
            ]
          },
          "metadata": {},
          "execution_count": 4
        }
      ]
    },
    {
      "cell_type": "markdown",
      "source": [
        "#### Then, we are going to transform it to a sparse matrix."
      ],
      "metadata": {
        "id": "8pAHofaUjG1m"
      }
    },
    {
      "cell_type": "code",
      "source": [
        "sparse_matrix = orig_matrix.to_sparse()\n",
        "sparse_matrix"
      ],
      "metadata": {
        "id": "R3gQhP-3jGYZ",
        "outputId": "0e3df76f-4ed3-426a-d7ac-3a227727f8ec",
        "colab": {
          "base_uri": "https://localhost:8080/"
        }
      },
      "execution_count": 5,
      "outputs": [
        {
          "output_type": "execute_result",
          "data": {
            "text/plain": [
              "SparseMatrix(nnz=8, shape=(10, 10),\n",
              "  data=[0.07103606 0.7991586  0.87001216 0.0202184  0.46147937 0.9786183\n",
              " 0.83261985 0.77815676],\n",
              "  row_indices=[0 2 3 3 4 5 7 9],\n",
              "  col_indices=[6 8 7 8 1 7 1 6])"
            ]
          },
          "metadata": {},
          "execution_count": 5
        }
      ]
    },
    {
      "cell_type": "markdown",
      "source": [
        "As you can see, the sparse matrix contains three length 10 array, `data`, `row_indices` and `col_indices`. The `data` represents the values of the all the non-zero elements inside the matrix, while `row_indices` and `col_indices` represents the row and column index of each non-zero element's index.\n",
        "\n",
        "We can also switch the sparse matrix back to dense matrix by calling `to_dense()` function.\n",
        "\n"
      ],
      "metadata": {
        "id": "CPaUh5xojQ_9"
      }
    },
    {
      "cell_type": "code",
      "source": [
        "dense_matrix = sparse_matrix.to_dense()\n",
        "dense_matrix"
      ],
      "metadata": {
        "id": "aeLbPoXAkCyq",
        "outputId": "e0680c87-7028-48c4-e465-79817dc31af6",
        "colab": {
          "base_uri": "https://localhost:8080/"
        }
      },
      "execution_count": 6,
      "outputs": [
        {
          "output_type": "execute_result",
          "data": {
            "text/plain": [
              "NDArray([[0.         0.         0.         0.         0.         0.\n",
              "  0.07103606 0.         0.         0.        ]\n",
              " [0.         0.         0.         0.         0.         0.\n",
              "  0.         0.         0.         0.        ]\n",
              " [0.         0.         0.         0.         0.         0.\n",
              "  0.         0.         0.7991586  0.        ]\n",
              " [0.         0.         0.         0.         0.         0.\n",
              "  0.         0.87001216 0.0202184  0.        ]\n",
              " [0.         0.46147937 0.         0.         0.         0.\n",
              "  0.         0.         0.         0.        ]\n",
              " [0.         0.         0.         0.         0.         0.\n",
              "  0.         0.9786183  0.         0.        ]\n",
              " [0.         0.         0.         0.         0.         0.\n",
              "  0.         0.         0.         0.        ]\n",
              " [0.         0.83261985 0.         0.         0.         0.\n",
              "  0.         0.         0.         0.        ]\n",
              " [0.         0.         0.         0.         0.         0.\n",
              "  0.         0.         0.         0.        ]\n",
              " [0.         0.         0.         0.         0.         0.\n",
              "  0.77815676 0.         0.         0.        ]], device=cuda())"
            ]
          },
          "metadata": {},
          "execution_count": 6
        }
      ]
    },
    {
      "cell_type": "markdown",
      "source": [
        "## 4. Sparse Matrix Multiplication\n",
        "### COO Format Matrix Multiplication\n",
        "\n",
        "Matrix multiplication in the **COO (Coordinate)** format involves multiplying two sparse matrices that are represented in the COO format. Since the COO format only stores nonzero elements along with their row and column indices, performing multiplication requires processing each nonzero element and its corresponding coordinates.\n",
        "\n",
        "#### Step 1: Represent the Matrices in COO Format\n",
        "Assume two matrices A and B, both stored in COO format. They are represented by the following components:\n",
        "\n",
        "- **Matrix A**:\n",
        "  - `A_data`: Nonzero values in matrix A.\n",
        "  - `A_row`: Row indices of the nonzero values in A.\n",
        "  - `A_col`: Column indices of the nonzero values in A.\n",
        "\n",
        "- **Matrix B**:\n",
        "  - `B_data`: Nonzero values in matrix B.\n",
        "  - `B_row`: Row indices of the nonzero values in B.\n",
        "  - `B_col`: Column indices of the nonzero values in B.\n",
        "\n",
        "Let matrix A be of size m × n and matrix B be of size n × p. The resulting matrix C will be of size m × p.\n",
        "\n",
        "#### Step 2: Initialize the Resultant Matrix\n",
        "The resulting matrix C will also be sparse and initially contain only zeros. In COO format, the result will have:\n",
        "\n",
        "- `C_data`: Nonzero values of the resulting matrix.\n",
        "- `C_row`: Row indices of the nonzero values in C.\n",
        "- `C_col`: Column indices of the nonzero values in C.\n",
        "\n",
        "#### Step 3: Compute Nonzero Elements of the Result\n",
        "To calculate C = A × B, follow these steps for each nonzero element of A:\n",
        "\n",
        "1. **Find the corresponding element in matrix B**: For each nonzero element A_ij in A, find the corresponding column indices of B. The row index in B must match the column index in A to compute the dot product.\n",
        "\n",
        "2. **Perform the multiplication**: For each pair of nonzero elements A_ij and B_jk, multiply them together and add to the corresponding entry in C:\n",
        "   \n",
        "   ```\n",
        "   C_ik = C_ik + A_ij × B_jk\n",
        "   ```\n",
        "\n",
        "3. **Store the result**: If C_ik is nonzero after the above addition, store the result in the COO format:\n",
        "   - Add the value of C_ik to `C_data`.\n",
        "   - Add the row index i to `C_row`.\n",
        "   - Add the column index k to `C_col`.\n",
        "\n",
        "#### Step 4: Handle Sparse Properties\n",
        "Since the result matrix C is also sparse, ensure that only nonzero values are stored. If the sum of C_ik is zero, it should not be stored in the COO format.\n",
        "#### Define two sparse matrices.\n"
      ],
      "metadata": {
        "id": "V7knxQA5kTql"
      }
    },
    {
      "cell_type": "code",
      "source": [
        "m, n, p = 500, 500, 500\n",
        "device = cuda()\n",
        "nnz = 100\n",
        "# Initialize a sparse matrix with all zeros\n",
        "matrix1 = np.zeros((m, n))\n",
        "matrix2 = np.zeros((n, p))\n",
        "\n",
        "# Randomly generate indices for nonzero elements\n",
        "row_indices_1 = np.random.choice(m, nnz, replace=True)\n",
        "col_indices_1 = np.random.choice(n, nnz, replace=True)\n",
        "row_indices_2 = np.random.choice(n, nnz, replace=True)\n",
        "col_indices_2 = np.random.choice(p, nnz, replace=True)\n",
        "\n",
        "# Generate random values for the nonzero elements\n",
        "values_1 = np.random.random(nnz)\n",
        "values_2 = np.random.random(nnz)\n",
        "\n",
        "# Populate the matrix\n",
        "for r, c, v in zip(row_indices_1, col_indices_2, values_1):\n",
        "    matrix1[r, c] = v\n",
        "for r, c, v in zip(row_indices_2, col_indices_2, values_2):\n",
        "    matrix2[r, c] = v\n",
        "\n",
        "dense_matrix1 = NDArray(matrix1, device=device)\n",
        "dense_matrix2 = NDArray(matrix2, device=device)\n",
        "dense_matrix1, dense_matrix2"
      ],
      "metadata": {
        "id": "SL-cMfnNkkQu",
        "outputId": "b6bb37af-718b-4b9b-b96b-f5d85e8c5207",
        "colab": {
          "base_uri": "https://localhost:8080/"
        }
      },
      "execution_count": 7,
      "outputs": [
        {
          "output_type": "execute_result",
          "data": {
            "text/plain": [
              "(NDArray([[0. 0. 0. ... 0. 0. 0.]\n",
              "  [0. 0. 0. ... 0. 0. 0.]\n",
              "  [0. 0. 0. ... 0. 0. 0.]\n",
              "  ...\n",
              "  [0. 0. 0. ... 0. 0. 0.]\n",
              "  [0. 0. 0. ... 0. 0. 0.]\n",
              "  [0. 0. 0. ... 0. 0. 0.]], device=cuda()),\n",
              " NDArray([[0. 0. 0. ... 0. 0. 0.]\n",
              "  [0. 0. 0. ... 0. 0. 0.]\n",
              "  [0. 0. 0. ... 0. 0. 0.]\n",
              "  ...\n",
              "  [0. 0. 0. ... 0. 0. 0.]\n",
              "  [0. 0. 0. ... 0. 0. 0.]\n",
              "  [0. 0. 0. ... 0. 0. 0.]], device=cuda()))"
            ]
          },
          "metadata": {},
          "execution_count": 7
        }
      ]
    },
    {
      "cell_type": "code",
      "source": [
        "# Convert dense matrices to sparse matrices.\n",
        "sparse_matrix1 = dense_matrix1.to_sparse()\n",
        "sparse_matrix2 = dense_matrix2.to_sparse()\n",
        "sparse_matrix1, sparse_matrix2"
      ],
      "metadata": {
        "id": "NHE20CY8l80J",
        "outputId": "51eb4c1c-54dd-4d5f-c103-5d20ad84362e",
        "colab": {
          "base_uri": "https://localhost:8080/"
        }
      },
      "execution_count": 8,
      "outputs": [
        {
          "output_type": "execute_result",
          "data": {
            "text/plain": [
              "(SparseMatrix(nnz=100, shape=(500, 500),\n",
              "   data=[0.3960597  0.37416998 0.76532525 0.6304479  0.58641016 0.10029394\n",
              "  0.46357542 0.29214752 0.40724117 0.05537432 0.35561273 0.4783703\n",
              "  0.13248764 0.96157014 0.6178767  0.23170163 0.07952208 0.77058077\n",
              "  0.79920256 0.1314828  0.96193635 0.97749513 0.14484777 0.63947254\n",
              "  0.42468548 0.29302028 0.18327984 0.49739137 0.8638556  0.22431703\n",
              "  0.9473706  0.09784448 0.21550767 0.72559434 0.11753186 0.05342718\n",
              "  0.82211775 0.20747007 0.7168597  0.24536721 0.01323686 0.14694664\n",
              "  0.9065555  0.27762872 0.8621915  0.58678436 0.9037197  0.08960304\n",
              "  0.9295293  0.14814086 0.02566272 0.87650526 0.08342244 0.9608347\n",
              "  0.21331197 0.42053947 0.5654213  0.06395527 0.8605512  0.23223414\n",
              "  0.66991657 0.3472335  0.08110139 0.511319   0.55219245 0.13690028\n",
              "  0.7270443  0.4856276  0.6720478  0.26211816 0.33314514 0.13206811\n",
              "  0.01642963 0.9493188  0.2703279  0.58447605 0.94043195 0.87428796\n",
              "  0.7740473  0.7308558  0.9413777  0.68328136 0.5573688  0.48805627\n",
              "  0.28173012 0.84894353 0.33815897 0.25394166 0.24082878 0.97291946\n",
              "  0.5182007  0.01142746 0.9818294  0.5173791  0.3685846  0.30159864\n",
              "  0.45614058 0.7851529  0.7486636  0.18984792],\n",
              "   row_indices=[ 28  32  38  53  57  31  31  42  48  42  53  47  69  82  84  91  94  95\n",
              "   99  98 105 119 128 131 127 121 128 127 151 143 147 148 147 163 163 169\n",
              "  180 185 183 178 203 197 207 202 227 244 244 256 257 262 265 267 273 279\n",
              "  288 292 290 291 304 305 321 324 341 334 335 356 349 358 369 368 373 370\n",
              "  376 384 387 388 389 396 397 398 398 405 418 420 425 426 430 423 442 442\n",
              "  449 448 452 459 460 461 487 487 488 488],\n",
              "   col_indices=[359 291 146  83 423 373 376 396 191 120 241 480 307 198 174 455 238  93\n",
              "   43  81 357 150 286 329 368 297 114 475 372 384 254 470 437 440 292 136\n",
              "  209 209 323 147 405 379 164 347  63 168 221  87 322 345 129 414 340 106\n",
              "  136  72 291  39  87 195 111 201 116 442   2 491  13 459 160 439  24  25\n",
              "  253 274 314  69 289 433  94  80 348 203 455  29 341  93 145 446  44  16\n",
              "  189 347 498 176  28 372 320  91 273 105]),\n",
              " SparseMatrix(nnz=100, shape=(500, 500),\n",
              "   data=[0.6969972  0.3708528  0.9040444  0.39902532 0.01560606 0.990345\n",
              "  0.51001686 0.251941   0.85772264 0.3267009  0.01203622 0.5361775\n",
              "  0.06271295 0.72416764 0.42403224 0.58759964 0.03330463 0.39843425\n",
              "  0.37381315 0.13105524 0.69002503 0.07695644 0.9591666  0.37992695\n",
              "  0.16053882 0.3068101  0.1154843  0.3277204  0.5757512  0.15941447\n",
              "  0.25942257 0.7963915  0.8155238  0.79979587 0.75677866 0.7774076\n",
              "  0.4569114  0.8820414  0.49030533 0.6144647  0.9564057  0.45860395\n",
              "  0.54380596 0.03536244 0.45985588 0.6956254  0.9518745  0.69962204\n",
              "  0.18523233 0.57754296 0.61848027 0.39267567 0.28351885 0.4090541\n",
              "  0.9742562  0.59098417 0.09961493 0.12886056 0.86948854 0.0446123\n",
              "  0.2728219  0.94530153 0.05684808 0.22116092 0.63876176 0.90398395\n",
              "  0.9589827  0.25868407 0.6455702  0.0163285  0.9088437  0.8207671\n",
              "  0.7786954  0.18115096 0.42879573 0.06807408 0.9292914  0.5188351\n",
              "  0.9594333  0.43040243 0.9894098  0.3567069  0.8490383  0.4541624\n",
              "  0.35536885 0.2531912  0.24002028 0.03307459 0.23274413 0.19705428\n",
              "  0.4012595  0.62889844 0.16295442 0.6813925  0.45722345 0.7885455\n",
              "  0.1871309  0.45813882 0.6360611  0.2775961 ],\n",
              "   row_indices=[ 13  40  11  32  61  36  24  44  27  27  33  67  67  43  35  41  73  29\n",
              "   79  88 104 111 111 121 125 129 133 138 151 148 152 156 174 166 182 184\n",
              "  189 197 197 199 204 215 214 216 207 228 217 212 218 223 232 234 251 256\n",
              "  255 258 259 259 265 267 274 287 287 290 290 291 297 295 300 302 307 309\n",
              "  327 326 341 353 364 349 374 381 382 387 393 394 407 418 421 423 429 438\n",
              "  434 437 459 466 467 469 486 488 491 495],\n",
              "   col_indices=[129 372  39 423  93  81 273  87 297 307 455 221  28 341 491 347 442 329\n",
              "  376  72 459 359  43  80 274 114  87 414 405 480 291 348 498 323 145 368\n",
              "  322 111 320 440 396  91 253 289 176 437 174 150 106 286  13 357 254 120\n",
              "  314 433  24  69 191  25 168 116 189 160 439 373 384 209 241  16 345 201\n",
              "  209 446 379 238  94 291  29 146 203  63 105 195 470 147 455 347 136 292\n",
              "  164 475 372 340  93 136  44  83 198   2]))"
            ]
          },
          "metadata": {},
          "execution_count": 8
        }
      ]
    },
    {
      "cell_type": "markdown",
      "source": [
        "#### Matrix Multiplication between dense matrices."
      ],
      "metadata": {
        "id": "vwtVy7Xilioy"
      }
    },
    {
      "cell_type": "code",
      "source": [
        "import time\n",
        "start = time.time()\n",
        "correct_result = dense_matrix1 @ dense_matrix2\n",
        "end = time.time()\n",
        "print(f\"Time taken for dense-dense matrix multipliction: {(end - start)*1000} ms\")\n",
        "correct_result"
      ],
      "metadata": {
        "id": "PcR5JUpvlaUV",
        "outputId": "c8bbdefe-bc6f-4bb5-f831-886096f4ea6a",
        "colab": {
          "base_uri": "https://localhost:8080/"
        }
      },
      "execution_count": 9,
      "outputs": [
        {
          "output_type": "stream",
          "name": "stdout",
          "text": [
            "Time taken for dense-dense matrix multipliction: 0.5300045013427734 ms\n"
          ]
        },
        {
          "output_type": "execute_result",
          "data": {
            "text/plain": [
              "NDArray([[0. 0. 0. ... 0. 0. 0.]\n",
              " [0. 0. 0. ... 0. 0. 0.]\n",
              " [0. 0. 0. ... 0. 0. 0.]\n",
              " ...\n",
              " [0. 0. 0. ... 0. 0. 0.]\n",
              " [0. 0. 0. ... 0. 0. 0.]\n",
              " [0. 0. 0. ... 0. 0. 0.]], device=cuda())"
            ]
          },
          "metadata": {},
          "execution_count": 9
        }
      ]
    },
    {
      "cell_type": "markdown",
      "source": [
        "#### Matrix Multiplication between sparse matrices."
      ],
      "metadata": {
        "id": "mtJqrryEmNso"
      }
    },
    {
      "cell_type": "code",
      "source": [
        "start = time.time()\n",
        "result = sparse_matrix1 @ sparse_matrix2\n",
        "print(result)\n",
        "# result = result.to_dense() # when flag = True return dense\n",
        "end = time.time()\n",
        "print(f\"Time taken for sparse-sparse matrix multipliction: {(end - start)*1000} ms\")\n",
        "print(f\"Result Correction: \\n{np.allclose(correct_result.numpy(), result.numpy())}\")"
      ],
      "metadata": {
        "id": "rQdvy4RJmXcv",
        "outputId": "66ceb109-69b1-4c2e-d10c-3d2ec3028c7d",
        "colab": {
          "base_uri": "https://localhost:8080/"
        }
      },
      "execution_count": 10,
      "outputs": [
        {
          "output_type": "stream",
          "name": "stdout",
          "text": [
            "[[0. 0. 0. ... 0. 0. 0.]\n",
            " [0. 0. 0. ... 0. 0. 0.]\n",
            " [0. 0. 0. ... 0. 0. 0.]\n",
            " ...\n",
            " [0. 0. 0. ... 0. 0. 0.]\n",
            " [0. 0. 0. ... 0. 0. 0.]\n",
            " [0. 0. 0. ... 0. 0. 0.]]\n",
            "Time taken for sparse-sparse matrix multipliction: 2.179384231567383 ms\n",
            "Result Correction: \n",
            "True\n"
          ]
        }
      ]
    },
    {
      "cell_type": "code",
      "source": [
        "start = time.time()\n",
        "result = sparse_matrix1 @ dense_matrix2\n",
        "result = result\n",
        "end = time.time()\n",
        "print(f\"Time taken for sparse-dense matrix multipliction: {(end - start)*1000} ms\")\n",
        "print(f\"Result Correction: \\n{np.allclose(correct_result.numpy(), result.numpy())}\")"
      ],
      "metadata": {
        "id": "a-9KWLwRnuyt",
        "outputId": "a41aa5c7-0dcf-4740-ecf3-88803efacbdc",
        "colab": {
          "base_uri": "https://localhost:8080/"
        }
      },
      "execution_count": 11,
      "outputs": [
        {
          "output_type": "stream",
          "name": "stdout",
          "text": [
            "Time taken for sparse-dense matrix multipliction: 0.6663799285888672 ms\n",
            "Result Correction: \n",
            "True\n"
          ]
        }
      ]
    },
    {
      "cell_type": "code",
      "source": [
        "start = time.time()\n",
        "result = dense_matrix1 @ sparse_matrix2\n",
        "result = result\n",
        "end = time.time()\n",
        "print(f\"Time taken for dense-sparse matrix multipliction: {(end - start)*1000} ms\")\n",
        "print(f\"Result Correction: \\n{np.allclose(correct_result.numpy(), result.numpy())}\")"
      ],
      "metadata": {
        "id": "1ukY2wXRn4dk",
        "outputId": "075bf6f1-ea62-4145-c8c0-883cf57b5b87",
        "colab": {
          "base_uri": "https://localhost:8080/"
        }
      },
      "execution_count": 12,
      "outputs": [
        {
          "output_type": "stream",
          "name": "stdout",
          "text": [
            "Time taken for dense-sparse matrix multipliction: 0.32329559326171875 ms\n",
            "Result Correction: \n",
            "True\n"
          ]
        }
      ]
    },
    {
      "cell_type": "markdown",
      "source": [
        "## Benchmark Test\n",
        "As we can see from the previous part, with a small matrix that is not very sparse(10/100), the benefits of using sparse matrix can not be shown. In the following cell, we run a test on 100 * 100 matrix with different number of non-zero elements, the acceleration result can be shown from it."
      ],
      "metadata": {
        "id": "s-Ie5v-Dc386"
      }
    },
    {
      "cell_type": "code",
      "source": [
        "!python -m backend_ndarray.ndarray"
      ],
      "metadata": {
        "id": "i7I2JjuJkVLf",
        "outputId": "703defd3-a46f-4cf4-e643-629bcca1bbfa",
        "colab": {
          "base_uri": "https://localhost:8080/"
        }
      },
      "execution_count": 13,
      "outputs": [
        {
          "output_type": "stream",
          "name": "stdout",
          "text": [
            "/usr/lib/python3.10/runpy.py:126: RuntimeWarning: 'backend_ndarray.ndarray' found in sys.modules after import of package 'backend_ndarray', but prior to execution of 'backend_ndarray.ndarray'; this may result in unpredictable behaviour\n",
            "  warn(RuntimeWarning(msg))\n",
            "Test Case: Size = ( 100 x 100 ), number of non-zero elements: 25\n",
            "Time for dense @ dense: 0.07245540618896484 ms\n",
            "Time for sparse @ dense: 0.05536079406738281 ms\n",
            "Time for sparse @ sparse: 0.04115104675292969 ms\n",
            "Test Case: Size = ( 100 x 100 ), number of non-zero elements: 100\n",
            "Time for dense @ dense: 0.06649494171142578 ms\n",
            "Time for sparse @ dense: 0.050902366638183594 ms\n",
            "Time for sparse @ sparse: 0.03948211669921875 ms\n",
            "Test Case: Size = ( 100 x 100 ), number of non-zero elements: 225\n",
            "Time for dense @ dense: 0.06666183471679688 ms\n",
            "Time for sparse @ dense: 0.06313323974609375 ms\n",
            "Time for sparse @ sparse: 0.042366981506347656 ms\n"
          ]
        }
      ]
    },
    {
      "cell_type": "markdown",
      "source": [
        "## Graph Neural Network(GNN)\n",
        "A Graph Neural Network (GNN) is a type of neural network specifically designed to process and analyze data structured as graphs. In a graph, data is represented as nodes (vertices) connected by edges (links), which may have associated features or attributes.\n",
        "### Common GNN Architectures:\n",
        "1. Graph Convolutional Networks (GCN): Generalizes the concept of convolution to graphs.\n",
        "2. Graph Attention Networks (GAT): Uses attention mechanisms to weigh neighbor contributions.\n",
        "3. GraphSAGE: Focuses on efficient sampling and aggregating information from neighbors.\n",
        "\n",
        "In this project, we are going to implement Graph Convolutional Network(GCN) and use sparse matrix multiplication mechnisms we implemented to accelerate its forward and backward passes."
      ],
      "metadata": {
        "id": "6H_e4ZpKN7G2"
      }
    },
    {
      "cell_type": "markdown",
      "source": [
        "### 1. Restart session and build file"
      ],
      "metadata": {
        "id": "RC6Rkimj87Og"
      }
    },
    {
      "cell_type": "code",
      "source": [
        "%cd /content/drive/MyDrive/10714/final_proj/gnn_with_spmm\n",
        "!make\n",
        "%set_env PYTHONPATH ./python\n",
        "%set_env NEEDLE_BACKEND nd"
      ],
      "metadata": {
        "colab": {
          "base_uri": "https://localhost:8080/"
        },
        "id": "s28PvEQs7yvl",
        "outputId": "78ea9282-8b4b-42c3-92ec-0a69e93d56c1"
      },
      "execution_count": 1,
      "outputs": [
        {
          "output_type": "stream",
          "name": "stdout",
          "text": [
            "/content/drive/MyDrive/10714/final_proj/gnn_with_spmm\n",
            "-- Found pybind11: /usr/local/lib/python3.10/dist-packages/pybind11/include (found version \"2.13.6\")\n",
            "\u001b[33mCMake Warning (dev) at CMakeLists.txt:57 (find_package):\n",
            "  Policy CMP0146 is not set: The FindCUDA module is removed.  Run \"cmake\n",
            "  --help-policy CMP0146\" for policy details.  Use the cmake_policy command to\n",
            "  set the policy and suppress this warning.\n",
            "\n",
            "This warning is for project developers.  Use -Wno-dev to suppress it.\n",
            "\u001b[0m\n",
            "-- CUDA_FOUND: TRUE\n",
            "-- Found cuda, building cuda backend\n",
            "Thu Dec 12 02:21:08 2024       \n",
            "+---------------------------------------------------------------------------------------+\n",
            "| NVIDIA-SMI 535.104.05             Driver Version: 535.104.05   CUDA Version: 12.2     |\n",
            "|-----------------------------------------+----------------------+----------------------+\n",
            "| GPU  Name                 Persistence-M | Bus-Id        Disp.A | Volatile Uncorr. ECC |\n",
            "| Fan  Temp   Perf          Pwr:Usage/Cap |         Memory-Usage | GPU-Util  Compute M. |\n",
            "|                                         |                      |               MIG M. |\n",
            "|=========================================+======================+======================|\n",
            "|   0  Tesla T4                       Off | 00000000:00:04.0 Off |                    0 |\n",
            "| N/A   60C    P8              11W /  70W |      0MiB / 15360MiB |      0%      Default |\n",
            "|                                         |                      |                  N/A |\n",
            "+-----------------------------------------+----------------------+----------------------+\n",
            "                                                                                         \n",
            "+---------------------------------------------------------------------------------------+\n",
            "| Processes:                                                                            |\n",
            "|  GPU   GI   CI        PID   Type   Process name                            GPU Memory |\n",
            "|        ID   ID                                                             Usage      |\n",
            "|=======================================================================================|\n",
            "|  No running processes found                                                           |\n",
            "+---------------------------------------------------------------------------------------+\n",
            "-- Autodetected CUDA architecture(s):  7.5\n",
            "-- Configuring done (0.3s)\n",
            "-- Generating done (0.4s)\n",
            "-- Build files have been written to: /content/drive/MyDrive/10714/final_proj/gnn_with_spmm/build\n",
            "make[1]: Entering directory '/content/drive/MyDrive/10714/final_proj/gnn_with_spmm/build'\n",
            "make[2]: Entering directory '/content/drive/MyDrive/10714/final_proj/gnn_with_spmm/build'\n",
            "make[3]: Entering directory '/content/drive/MyDrive/10714/final_proj/gnn_with_spmm/build'\n",
            "make[3]: Leaving directory '/content/drive/MyDrive/10714/final_proj/gnn_with_spmm/build'\n",
            "[  0%] Built target ndarray_backend_cpu\n",
            "make[3]: Entering directory '/content/drive/MyDrive/10714/final_proj/gnn_with_spmm/build'\n",
            "make[3]: Leaving directory '/content/drive/MyDrive/10714/final_proj/gnn_with_spmm/build'\n",
            "[ 50%] Built target ndarray_backend_cuda\n",
            "make[2]: Leaving directory '/content/drive/MyDrive/10714/final_proj/gnn_with_spmm/build'\n",
            "make[1]: Leaving directory '/content/drive/MyDrive/10714/final_proj/gnn_with_spmm/build'\n",
            "env: PYTHONPATH=./python\n",
            "env: NEEDLE_BACKEND=nd\n"
          ]
        }
      ]
    },
    {
      "cell_type": "markdown",
      "source": [
        "### 2. Processing Cora dataset\n",
        "\n",
        "The Cora dataset is one of the most widely used benchmarks for evaluating graph-based machine learning models, especially Graph Neural Networks (GNNs). It is a citation network, where nodes represent scientific publications and edges represent citation relationships between them\n",
        "\n",
        "**Dataset Overview**\n",
        "\n",
        "*   Nodes: Publications (papers, books, etc.)\n",
        "*   Edges: Citation relationships between publications\n",
        "*   Node Features: Word vectors (1433 dimensions) representing the presence/absence of words from a dictionary\n",
        "*   Labels: 7 classes representing publication types (e.g., Neural Networks, Reinforcement Learning, etc.)\n",
        "\n",
        "**Key Statistics**\n",
        "\n",
        "*   Number of graph: 1\n",
        "*   Number of Nodes: 2708\n",
        "*   Number of Edges: 5429 (undirected)\n",
        "*   Number of Features: 1433\n",
        "*   Number of Classes: 7\n",
        "\n",
        "**Implementation**\n",
        "\n",
        "The Cora dataset is processed using a class CoraDataset, implemented in cora_dataset.py under the ./python/needle/data directory. This implementation reads the raw data files (./python/data/cora/cora.content and ./python/data/cora/cora.cites), extracts the features, labels, and graph structure, and processes them into formats suitable for GNN task. The CoraDataset class is designed to load, process, and store the Cora dataset’s key components."
      ],
      "metadata": {
        "id": "2668IUxH9QyJ"
      }
    },
    {
      "cell_type": "markdown",
      "source": [
        "### 3. Implementing Graph Convolutional Neural Network\n",
        "\n",
        "The `nn_gnn.py` module implements a two layer Graph Convolutional Network architecture, focusing on two key classes: `GraphConvolution` and `simpleGCN`. We enable graph-based neural network operations by extending traditional neural network layers to work with graph-structured data.\n",
        "\n",
        "#### GraphConvolution Layer\n",
        "\n",
        "The `GraphConvolution` layer serves as the fundamental building block of graph neural networks. We design this layer to efficiently transform node features using graph adjacency information. Key implementation details include:\n",
        "\n",
        "**Learnable Parameters**\n",
        "- Weight matrix initialized using Kaiming uniform initialization\n",
        "- Optional bias term with flexible initialization\n",
        "\n",
        "**Sparse Matrix Operations**\n",
        "- Performs sparse matrix multiplication between graph adjacency matrix and node features\n",
        "- Enables efficient processing of large, sparse graph structures\n",
        "\n",
        "**Forward Propagation Mechanism**\n",
        "1. Convert adjacency matrix to sparse representation\n",
        "2. Perform sparse matrix multiplication with input features\n",
        "3. Apply linear transformation using learned weights\n",
        "4. Optionally add bias term with broadcasting\n",
        "\n",
        "#### SimpleGCN Model\n",
        "\n",
        "The `simpleGCN` class demonstrates a two-layer graph convolutional network:\n",
        "\n",
        "**Layer Composition**\n",
        "- First Layer: Graph convolution transforming input features to hidden dimension\n",
        " - Applies non-linear ReLU activation\n",
        "- Second Layer: Additional graph convolution mapping hidden features to output dimension\n",
        "- Activation: ReLU non-linearity between graph convolution layers\n"
      ],
      "metadata": {
        "id": "NzLSQduJDMw0"
      }
    },
    {
      "cell_type": "markdown",
      "source": [
        "### 4. Train and evaluate simple GCN model on cora dataset\n",
        "\n",
        "\n"
      ],
      "metadata": {
        "id": "2VcWqScmQ5Bo"
      }
    },
    {
      "cell_type": "code",
      "source": [
        "import os\n",
        "import sys\n",
        "import numpy as np\n",
        "sys.path.append('./python')\n",
        "sys.path.append('./apps')\n",
        "import needle as ndl\n",
        "import simple_ml as ml\n",
        "\n",
        "# process cora dataset\n",
        "device = ndl.cpu()\n",
        "content_path = './data/cora/cora.content'\n",
        "cites_path = './data/cora/cora.cites'\n",
        "cora_dataset = ndl.data.CoraDataset(content_path, cites_path)\n",
        "X, y, adjacency_matrix = cora_dataset.get_data()\n",
        "\n",
        "# initialize DataLoader\n",
        "X_train, y_train, adj_train, X_test, y_test, adj_test = ml.split_data(X, y, adjacency_matrix)\n",
        "train_dataloader = ndl.data.DataLoader(X_train, y_train, adj_train, batch_size=64, shuffle=True, device=device)\n",
        "test_dataloader = ndl.data.DataLoader(X_test, y_test, adj_test, batch_size=64, shuffle=False, device=device)\n",
        "\n",
        "# simple gnn model\n",
        "in_features = X.shape[1]\n",
        "hidden_features = 16\n",
        "out_features = len(np.unique(y)) # 7\n",
        "gcn_model = ndl.nn.simpleGCN(in_features, hidden_features, out_features)\n",
        "\n",
        "# train\n",
        "trained_gcn = ml.train_gcn(gcn_model, train_dataloader, num_epochs=50, learning_rate=0.005)\n",
        "# evaluate\n",
        "accuracy = ml.evaluate_gcn(trained_gcn, test_dataloader)\n",
        "print(f\"Test Accuracy: {accuracy * 100:.2f}%\")"
      ],
      "metadata": {
        "id": "nrW9hda8kofS",
        "colab": {
          "base_uri": "https://localhost:8080/"
        },
        "outputId": "6279ad41-96ac-4f38-e3d5-67671355abe7"
      },
      "execution_count": 2,
      "outputs": [
        {
          "output_type": "stream",
          "name": "stdout",
          "text": [
            "Using needle backend\n",
            "Epoch 1/50, Loss: [1.3559676], Train Accuracy: 15.05%\n",
            "Epoch 2/50, Loss: [1.3445566], Train Accuracy: 15.74%\n",
            "Epoch 3/50, Loss: [1.3343217], Train Accuracy: 15.51%\n",
            "Epoch 4/50, Loss: [1.3259437], Train Accuracy: 15.37%\n",
            "Epoch 5/50, Loss: [1.3173752], Train Accuracy: 15.05%\n",
            "Epoch 6/50, Loss: [1.3091987], Train Accuracy: 15.10%\n",
            "Epoch 7/50, Loss: [1.2974317], Train Accuracy: 15.37%\n",
            "Epoch 8/50, Loss: [1.289646], Train Accuracy: 14.87%\n",
            "Epoch 9/50, Loss: [1.2811494], Train Accuracy: 14.87%\n",
            "Epoch 10/50, Loss: [1.2753476], Train Accuracy: 15.56%\n",
            "Epoch 11/50, Loss: [1.2668805], Train Accuracy: 15.19%\n",
            "Epoch 12/50, Loss: [1.2627152], Train Accuracy: 14.64%\n",
            "Epoch 13/50, Loss: [1.25548], Train Accuracy: 15.28%\n",
            "Epoch 14/50, Loss: [1.2474684], Train Accuracy: 15.19%\n",
            "Epoch 15/50, Loss: [1.2439557], Train Accuracy: 15.56%\n",
            "Epoch 16/50, Loss: [1.2382095], Train Accuracy: 15.14%\n",
            "Epoch 17/50, Loss: [1.2335088], Train Accuracy: 15.19%\n",
            "Epoch 18/50, Loss: [1.2286911], Train Accuracy: 15.37%\n",
            "Epoch 19/50, Loss: [1.2255338], Train Accuracy: 15.56%\n",
            "Epoch 20/50, Loss: [1.2207004], Train Accuracy: 15.28%\n",
            "Epoch 21/50, Loss: [1.2173318], Train Accuracy: 15.47%\n",
            "Epoch 22/50, Loss: [1.2110534], Train Accuracy: 15.79%\n",
            "Epoch 23/50, Loss: [1.2066841], Train Accuracy: 16.39%\n",
            "Epoch 24/50, Loss: [1.2049104], Train Accuracy: 16.16%\n",
            "Epoch 25/50, Loss: [1.2011942], Train Accuracy: 16.07%\n",
            "Epoch 26/50, Loss: [1.1984713], Train Accuracy: 16.16%\n",
            "Epoch 27/50, Loss: [1.1954293], Train Accuracy: 16.39%\n",
            "Epoch 28/50, Loss: [1.1933421], Train Accuracy: 21.10%\n",
            "Epoch 29/50, Loss: [1.1924379], Train Accuracy: 30.66%\n",
            "Epoch 30/50, Loss: [1.1880099], Train Accuracy: 30.98%\n",
            "Epoch 31/50, Loss: [1.1870565], Train Accuracy: 30.47%\n",
            "Epoch 32/50, Loss: [1.1833812], Train Accuracy: 31.35%\n",
            "Epoch 33/50, Loss: [1.1827532], Train Accuracy: 31.02%\n",
            "Epoch 34/50, Loss: [1.1795115], Train Accuracy: 31.12%\n",
            "Epoch 35/50, Loss: [1.1759843], Train Accuracy: 30.66%\n",
            "Epoch 36/50, Loss: [1.1759865], Train Accuracy: 31.49%\n",
            "Epoch 37/50, Loss: [1.1735555], Train Accuracy: 30.89%\n",
            "Epoch 38/50, Loss: [1.1731056], Train Accuracy: 31.30%\n",
            "Epoch 39/50, Loss: [1.1724764], Train Accuracy: 31.07%\n",
            "Epoch 40/50, Loss: [1.1710409], Train Accuracy: 31.16%\n",
            "Epoch 41/50, Loss: [1.1697944], Train Accuracy: 30.98%\n",
            "Epoch 42/50, Loss: [1.1687242], Train Accuracy: 30.93%\n",
            "Epoch 43/50, Loss: [1.1662984], Train Accuracy: 30.98%\n",
            "Epoch 44/50, Loss: [1.1664464], Train Accuracy: 30.98%\n",
            "Epoch 45/50, Loss: [1.1643348], Train Accuracy: 30.89%\n",
            "Epoch 46/50, Loss: [1.1644391], Train Accuracy: 30.98%\n",
            "Epoch 47/50, Loss: [1.1617674], Train Accuracy: 30.89%\n",
            "Epoch 48/50, Loss: [1.1620723], Train Accuracy: 31.16%\n",
            "Epoch 49/50, Loss: [1.1615045], Train Accuracy: 31.12%\n",
            "Epoch 50/50, Loss: [1.1592456], Train Accuracy: 30.98%\n",
            "Test Accuracy: 27.68%\n"
          ]
        }
      ]
    }
  ]
}